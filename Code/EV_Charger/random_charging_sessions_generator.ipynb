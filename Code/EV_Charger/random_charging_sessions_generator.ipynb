{
 "cells": [
  {
   "cell_type": "code",
   "execution_count": 2,
   "id": "bda4807c",
   "metadata": {},
   "outputs": [],
   "source": [
    "import numpy as np\n",
    "import matplotlib.pyplot as plt\n",
    "import pandas as pd\n",
    "import plotly.graph_objects as go"
   ]
  },
  {
   "cell_type": "markdown",
   "id": "359d21c6",
   "metadata": {},
   "source": [
    "# Import charging data, plot it, and analyze it"
   ]
  },
  {
   "cell_type": "code",
   "execution_count": null,
   "id": "8a7642b6",
   "metadata": {},
   "outputs": [],
   "source": [
    "# Insert current working directory\n",
    "admin_shark = pd.read_hdf(r'/home/lencon/Git_Research/SIGI_LAPTOP_TRANSFER/Documents/Research/SIGI_Research_Meetings/19_apr_2023/Full Year/admin_shark_03_01_2022_to_03_01_2023.h5')"
   ]
  },
  {
   "cell_type": "code",
   "execution_count": null,
   "id": "57004f02",
   "metadata": {},
   "outputs": [],
   "source": [
    "admin_shark"
   ]
  },
  {
   "cell_type": "code",
   "execution_count": null,
   "id": "056091ae",
   "metadata": {},
   "outputs": [],
   "source": [
    "# CE-CERT Fast Charger\n",
    "l3_power = admin_shark[admin_shark.tag == 'EV Charger L3 Watts, 3-Ph total'].reset_index(drop=True)\n",
    "l3_power"
   ]
  },
  {
   "cell_type": "code",
   "execution_count": null,
   "id": "f9fa767d",
   "metadata": {},
   "outputs": [],
   "source": [
    "# The 4 regular CE-CERT EV Chargers\n",
    "l2_power = admin_shark[admin_shark.tag == 'EV Charger L2 Watts, 3-Ph total'].reset_index(drop=True)\n",
    "l2_power"
   ]
  },
  {
   "cell_type": "code",
   "execution_count": null,
   "id": "c3bc2090",
   "metadata": {},
   "outputs": [],
   "source": [
    "l2_power.value.describe()"
   ]
  },
  {
   "cell_type": "code",
   "execution_count": null,
   "id": "4c3e6a7f",
   "metadata": {},
   "outputs": [],
   "source": [
    "# Air Conditioning Loads of CE-CERT Admin buling\n",
    "hvac_power = admin_shark[admin_shark.tag == 'T1 (HVAC) Watts, 3-Ph total'].reset_index(drop=True)\n",
    "hvac_power "
   ]
  },
  {
   "cell_type": "code",
   "execution_count": null,
   "id": "791d98d0",
   "metadata": {},
   "outputs": [],
   "source": [
    "# 120 and 240 V outlets at CE-CERT Admin Builiding\n",
    "plug_load = admin_shark[admin_shark.tag == 'T2 (Plug Loads) Watts, 3-Ph total'].reset_index(drop=True)\n",
    "plug_load"
   ]
  },
  {
   "cell_type": "markdown",
   "id": "218f1e3c",
   "metadata": {},
   "source": [
    "## Function to plot data as html, please verify you have plotly installed"
   ]
  },
  {
   "cell_type": "code",
   "execution_count": 22,
   "id": "15912430",
   "metadata": {},
   "outputs": [],
   "source": [
    "import plotly\n",
    "import plotly.graph_objects as go\n",
    "def plot_graph(x_data, y_data, line_name, title, x_title, y_title, filename):\n",
    "    # Define the figure\n",
    "    fig = go.Figure()\n",
    "    # Add data to figure\n",
    "    for i in range(0, len(x_data), 1):\n",
    "        fig.add_trace(go.Scattergl(x=x_data[i], y=y_data[i], name= line_name[i]))\n",
    "            \n",
    "    # Create Layout for the Html\n",
    "    \n",
    "    fig.update_layout(\n",
    "        title=go.layout.Title(\n",
    "            text= title,\n",
    "            xref=\"paper\",\n",
    "            x=0.5\n",
    "        ),\n",
    "        xaxis=go.layout.XAxis(\n",
    "            title=go.layout.xaxis.Title(\n",
    "                text=x_title,\n",
    "            ),\n",
    "            rangeslider=dict(\n",
    "                visible=True\n",
    "            )\n",
    "        ),\n",
    "        yaxis=go.layout.YAxis(\n",
    "            title=go.layout.yaxis.Title(\n",
    "                text=y_title,\n",
    "            )\n",
    "        ),\n",
    "        plot_bgcolor = \"white\"\n",
    "    )\n",
    "    fig.show()\n",
    "    fig.write_html(filename + '.html')\n",
    "    # Define the figure\n",
    "    fig = go.Figure()\n",
    "    # Add data to figure\n",
    "    for i in range(0, len(x_data), 1):\n",
    "        fig.add_trace(go.Scatter(x=x_data[i], y=y_data[i], name= line_name[i]))\n",
    "            \n",
    "    # Create Layout for the Html\n",
    "    \n",
    "    fig.update_layout(\n",
    "        title=go.layout.Title(\n",
    "            text= title,\n",
    "            xref=\"paper\",\n",
    "            x=0.5\n",
    "        ),\n",
    "        xaxis=go.layout.XAxis(\n",
    "            title=go.layout.xaxis.Title(\n",
    "                text=x_title,\n",
    "            ),\n",
    "            rangeslider=dict(\n",
    "                visible=False\n",
    "            )\n",
    "        ),\n",
    "        yaxis=go.layout.YAxis(\n",
    "            title=go.layout.yaxis.Title(\n",
    "                text=y_title,\n",
    "            )\n",
    "        ),\n",
    "        plot_bgcolor = \"white\"\n",
    "    )\n",
    "    fig.update_layout(\n",
    "    font=dict(\n",
    "        family=\"sans-serif\",\n",
    "        size=20,  # Set the font size here\n",
    "    ),\n",
    "    legend=dict(\n",
    "        x=0.5,\n",
    "        y=1,\n",
    "        traceorder=\"normal\",\n",
    "        font=dict(\n",
    "            family=\"sans-serif\",\n",
    "            size=20,\n",
    "            color=\"black\"\n",
    "            )\n",
    "        )\n",
    "    )\n",
    "    fig.write_image(filename + '.pdf', engine = 'orca')\n",
    "    fig.write_image(filename + '.pdf', engine = 'orca')"
   ]
  },
  {
   "cell_type": "markdown",
   "id": "21c055e5",
   "metadata": {},
   "source": [
    "Plot entire interval"
   ]
  },
  {
   "cell_type": "code",
   "execution_count": null,
   "id": "27637ca0",
   "metadata": {},
   "outputs": [],
   "source": [
    "plot_graph([l2_power.time], [l2_power.value], \"Level 2\", \"Level 2 Sharkmeter Data\", \"Time\", \"Power (kW)\", \"L2\")"
   ]
  },
  {
   "cell_type": "markdown",
   "id": "ccab1d72",
   "metadata": {},
   "source": [
    "Plot a couple of days"
   ]
  },
  {
   "cell_type": "code",
   "execution_count": null,
   "id": "8824b938",
   "metadata": {},
   "outputs": [],
   "source": [
    "plot_graph([l2_power.time[l2_power.time.between('06/03/2022', '06/12/2022')]], [l2_power.value[l2_power.time.between('06/03/2022', '06/12/2022')]], \"Level 2\", \"Level 2 Sharkmeter Data\", \"Time\", \"Power (kW)\", \"L2_short\")"
   ]
  },
  {
   "cell_type": "markdown",
   "id": "3f3ab615",
   "metadata": {},
   "source": [
    "## Function to average a large interval into one average day data\n",
    "### Used to determine typical data"
   ]
  },
  {
   "cell_type": "code",
   "execution_count": 9,
   "id": "4655e6c9",
   "metadata": {},
   "outputs": [],
   "source": [
    "def day_time(freq = '1min'):\n",
    "    # Create the number on intervals during the day\n",
    "    time_array = pd.date_range('0:00', '23:59:59', freq=freq).strftime('%H:%M')\n",
    "    return(time_array)\n",
    "\n",
    "def time_sep_label(df, time_column = 'time', resample_rate = '1T', value_column = 'value'):\n",
    "    # Ensure time column is in datetime format\n",
    "    df[time_column] = pd.to_datetime(df[time_column])\n",
    "    # Set time column as index\n",
    "    df = df.set_index(df[time_column])\n",
    "    # Remove time column from dataframe since it is now the index\n",
    "    df = df.drop(columns = [time_column])\n",
    "    # Clean up and resample missing data \n",
    "    df = df.resample(resample_rate).mean()\n",
    "    # Extract the time period ths user wants in a day as an integer\n",
    "    resample_rate_int =  int(resample_rate.rstrip(resample_rate[-1]))\n",
    "    # Change '1T' to '1min' Call the daytime function to produce the time intervals\n",
    "    time_array = day_time(str(resample_rate_int) + 'min')\n",
    "    # Create a new column for labeling each row \n",
    "    df['time_interval_label'] = np.nan\n",
    "    # Declare the list for indexes for ever interval\n",
    "    avg_day = []\n",
    "    # Extract the indexes for ever interval\n",
    "    for i in range(len(time_array) - 1):\n",
    "        avg_day.append(df[value_column].between_time(time_array[i], time_array[i + 1], inclusive = 'left').mean())\n",
    "    return[time_array, avg_day]\n",
    "\n",
    "def time_sep_label_sum(df, time_column = 'time', resample_rate = '1T', value_column = 'value'):\n",
    "    # Ensure time column is in datetime format\n",
    "    df[time_column] = pd.to_datetime(df[time_column])\n",
    "    # Set time column as index\n",
    "    df = df.set_index(df[time_column])\n",
    "    # Remove time column from dataframe since it is now the index\n",
    "    df = df.drop(columns = [time_column])\n",
    "    # Clean up and resample missing data \n",
    "    df = df.resample(resample_rate).mean()\n",
    "    # Extract the time period ths user wants in a day as an integer\n",
    "    resample_rate_int =  int(resample_rate.rstrip(resample_rate[-1]))\n",
    "    # Change '1T' to '1min' Call the daytime function to produce the time intervals\n",
    "    time_array = day_time(str(resample_rate_int) + 'min')\n",
    "    # Create a new column for labeling each row \n",
    "    df['time_interval_label'] = np.nan\n",
    "    # Declare the list for indexes for ever interval\n",
    "    avg_day = []\n",
    "    # Extract the indexes for ever interval\n",
    "    for i in range(len(time_array) - 1):\n",
    "        avg_day.append(len(df[value_column].between_time(time_array[i], time_array[i + 1], inclusive = 'left').dropna()))\n",
    "    avg_day.append(len(df[value_column].between_time(time_array[-1], time_array[0], inclusive = 'left').dropna()))\n",
    "    return[time_array, avg_day]"
   ]
  },
  {
   "cell_type": "markdown",
   "id": "cfcbb678",
   "metadata": {},
   "source": [
    "Call function to average the interval for the regular EV loads"
   ]
  },
  {
   "cell_type": "code",
   "execution_count": null,
   "id": "9bdc267e",
   "metadata": {},
   "outputs": [],
   "source": [
    "time_array, avg_day = time_sep_label(l2_power)"
   ]
  },
  {
   "cell_type": "markdown",
   "id": "73641867",
   "metadata": {},
   "source": [
    "Create a dataframe for the plot and reove the last row"
   ]
  },
  {
   "cell_type": "code",
   "execution_count": null,
   "id": "f3ab558f",
   "metadata": {},
   "outputs": [],
   "source": [
    "avg_day = pd.DataFrame({'time': time_array[0:-1], 'avg_day': avg_day})\n",
    "avg_day"
   ]
  },
  {
   "cell_type": "markdown",
   "id": "9c1700f5",
   "metadata": {},
   "source": [
    "Plot the average day with time"
   ]
  },
  {
   "cell_type": "code",
   "execution_count": null,
   "id": "adce3955",
   "metadata": {},
   "outputs": [],
   "source": [
    "plot_graph([avg_day.time], [avg_day.avg_day / 1000], 'Level 2 Average Power', 'Lever 2 Chargers Average Load', 'time', 'Power (kW)', 'l2_avg_day')"
   ]
  },
  {
   "cell_type": "markdown",
   "id": "5c4b73ba",
   "metadata": {},
   "source": [
    "Plot the average day with minutes in a day (1440 total)"
   ]
  },
  {
   "cell_type": "code",
   "execution_count": null,
   "id": "c7ab87ca",
   "metadata": {},
   "outputs": [],
   "source": [
    "plot_graph([avg_day.index], [avg_day.avg_day / 1000], 'Level 2 Average Power', 'Lever 2 Chargers Average Load', 'time', 'Power (kW)', 'l2_avg_day_int')"
   ]
  },
  {
   "cell_type": "markdown",
   "id": "309311d6",
   "metadata": {},
   "source": [
    "## Fit the the data using SciPy"
   ]
  },
  {
   "cell_type": "code",
   "execution_count": null,
   "id": "1d88c0a4",
   "metadata": {},
   "outputs": [],
   "source": [
    "from scipy.optimize import curve_fit\n",
    "import numpy as np\n",
    "import matplotlib.pyplot as plt\n",
    "\n",
    "#data = np.loadtxt('data.txt', delimiter=',')\n",
    "x, y = avg_day.index, (avg_day.avg_day / 1000)\n",
    "\n",
    "plt.plot(x,y)\n",
    "plt.show()\n",
    "\n",
    "def func(x, *params):\n",
    "    y = np.zeros_like(x)\n",
    "    for i in range(0, len(params), 3):\n",
    "        ctr = params[i]\n",
    "        amp = params[i+1]\n",
    "        wid = params[i+2]\n",
    "        y = y + amp * np.exp( -((x - ctr)/wid)**2)\n",
    "    return y\n",
    "\n",
    "guess = [558, 5.87, 332, 872, 3.17, 358, 1235, 1.38, 300]\n",
    "#for i in range(3):\n",
    "#    guess += [60+80*i, 46000, 25]   \n",
    "\n",
    "popt, pcov = curve_fit(func, x, y, p0=guess, maxfev=5000)\n",
    "print (popt)\n",
    "print (\"-----------------------------------------------------------------\")\n",
    "print (pcov)\n",
    "fit = func(x, *popt)\n",
    "\n",
    "plt.plot(x, y)\n",
    "plt.plot(x, fit , 'r-')\n",
    "plt.show()"
   ]
  },
  {
   "cell_type": "markdown",
   "id": "d3fda422",
   "metadata": {},
   "source": [
    "# Function to generate Random EV arrival times using a compound Gaussian"
   ]
  },
  {
   "cell_type": "code",
   "execution_count": null,
   "id": "1d19fac8",
   "metadata": {},
   "outputs": [],
   "source": [
    "import numpy as np\n",
    "import pandas as pd\n",
    "# Creates the Gaussian for number of random arrivals for a day (Scalar value)\n",
    "def number_of_arrivals(mean, std_dev, size =1):\n",
    "    num_arriv = np.array([])\n",
    "    for i in range(len(mean)):\n",
    "        num_arriv = np.append(num_arriv, np.random.default_rng().normal(mean[i], std_dev[i], size))\n",
    "    num_arriv = np.sort(np.absolute(num_arriv))\n",
    "    return (num_arriv)\n",
    "# Creates a compund Gaussian with user imputed size (vector length) \n",
    "# A vector is expected for for the function fir both the mean and std dev\n",
    "# [1 ... N] creates an Nth compound Gaussian eg, mean = [10, 20, 30], std_dev = [1, 2, 3]  creates a tri-Gaussian\n",
    "def compound_gauss(mean, std_dev, size):\n",
    "    if len(mean) == len(std_dev):\n",
    "        cpd_gauss = np.array([])\n",
    "        for i in range(len(mean)):\n",
    "            if size[i] <= 1:\n",
    "                size[i] = 1\n",
    "            cpd_gauss = np.append(cpd_gauss, np.random.default_rng().normal(mean[i], std_dev[i], int(size[i])))\n",
    "        #print(cpd_gauss)\n",
    "        cpd_gauss = np.sort(cpd_gauss)\n",
    "    return (cpd_gauss)\n",
    "# Creates the Guassian for arrival and leave times in minutes in a day\n",
    "def random_ev_arrivals_times(arriv_mean, arriv_std_dev, cpd_mean, cpd_std_dev, charge_mean, charge_std_dev):\n",
    "    # Size (vector length) is determined by number_of_arrivals function\n",
    "    size = number_of_arrivals(arriv_mean, arriv_std_dev)\n",
    "    # Input the time when peaks occur\n",
    "    arriv_time = compound_gauss(cpd_mean, cpd_std_dev, size)\n",
    "    print(arriv_time)\n",
    "    # Input the average duration of charging for each peak \n",
    "    leave_time = compound_gauss(charge_mean, charge_std_dev, size)\n",
    "    return [arriv_time, leave_time]\n",
    "# Creates a datafrrame with the arrival times, and adds a time column \n",
    "# If multiple charging sessions occur they add up\n",
    "def date_time_arrival_times(start_date, num_days, arriv_mean, arriv_std_dev, cpd_mean, cpd_std_dev, charge_mean, charge_std_dev):\n",
    "    # Create a dataframe to be populated \n",
    "    df = pd.DataFrame(columns = ['arriv_time', 'leave_time'])\n",
    "    # Timestamp for each day counter \n",
    "    current_date = start_date\n",
    "    # Populates the dataframe with random arrival for each day\n",
    "    # Each day is added one at a time in the for loop\n",
    "    for i in range(num_days):\n",
    "        # Create temporary dataframe for that day that will be added main dataframe\n",
    "        temp = pd.DataFrame(columns = ['arriv_time'])\n",
    "        # Call the random arrival time function for each day\n",
    "        arriv_time, leave_time = random_ev_arrivals_times(arriv_mean, arriv_std_dev, cpd_mean, cpd_std_dev, charge_mean, charge_std_dev)\n",
    "        # Converts random arrival times (minutes in a day) into timedeltas which are added to that day's timestamp\n",
    "        # Converts random arrival times into pandas timestamps \n",
    "        temp['arriv_time'] = current_date + pd.to_timedelta(arriv_time, unit = 'min')\n",
    "        # Converts random leave times (duration) into timestamps by adding arrival time to leave time timedeltas\n",
    "        temp['leave_time'] = temp['arriv_time'] + pd.to_timedelta(leave_time, unit = 'min')\n",
    "        # Add daily dataframe to the main dataframe\n",
    "        df = pd.concat([df,temp])\n",
    "        # Update the current day timestamp by adding one day\n",
    "        current_date = current_date + pd.Timedelta(1, \"d\")\n",
    "    # Ensures that arrival times are in order\n",
    "    df = df.sort_values(by=['arriv_time'])\n",
    "    # Reset dataframe to organized arrival times\n",
    "    df = df.reset_index(drop = True)\n",
    "    # Seperate arrival times and leave times to create charging sessions \n",
    "    df1 = df[['arriv_time']]\n",
    "    # Set a charging session to 1\n",
    "    df1['value'] = 1\n",
    "    df1['time'] = df1['arriv_time']\n",
    "    df2 = df[['leave_time']]\n",
    "    # Set a charging session to -1 to negate a charging to shut it off\n",
    "    df2['value'] = -1\n",
    "    df2['time'] = df2['leave_time']\n",
    "    # Combine the seperated dataframes to create a charging sessions \n",
    "    ev = pd.concat([df1, df2])\n",
    "    # Sort the combined dataframes, by time \n",
    "    ev = ev.sort_values(by=['time'])\n",
    "    # Reset dataframe to organized times\n",
    "    ev = ev.reset_index(drop = True)\n",
    "    # Adds the 1 and -1s to get number of charging sessions occuring at every time interval\n",
    "    ev['fuzz'] = ev.value.cumsum()\n",
    "    # 0 - 4 charging session can occur since there are 4 charging stations\n",
    "    ev['fuzz'] = ev['fuzz'].clip(lower=0, upper = 4)\n",
    "    # Multiply by 5 kW which is the power consumption for each EV charger\n",
    "    ev['charge'] = ev['fuzz'] * 5 \n",
    "    # Organize columns \n",
    "    ev = ev[['time', 'value', 'fuzz', 'charge']]\n",
    "    return [df, ev]"
   ]
  },
  {
   "cell_type": "markdown",
   "id": "3bf25263",
   "metadata": {},
   "source": [
    "## Call the function and adjust the parameters"
   ]
  },
  {
   "cell_type": "code",
   "execution_count": null,
   "id": "4ee2caf5",
   "metadata": {},
   "outputs": [],
   "source": [
    "arriv_mean = [6, 2, 1] # Average number of car arrivals\n",
    "arriv_std_dev = [4, 2, 0.3] # Car arrivals standard deviation\n",
    "cpd_mean = [558, 872, 1235] # Arrival times peaks \n",
    "cpd_std_dev = [332, 358, 300] # Arrival times standard deviation\n",
    "ev_arriv = np.array([])\n",
    "start_date = pd.Timestamp(2023, 1, 1, 0) # Start date for the time deltas\n",
    "charge_mean = [90, 90, 90] # Average length of charging session \n",
    "charge_std_dev = [30, 30, 30] # Standard deviation of charging length\n",
    "num_days = 365 # Number of outputed random data \n",
    "# Call the function \n",
    "df, ev = date_time_arrival_times(start_date, num_days, arriv_mean, arriv_std_dev,\n",
    "                              cpd_mean, cpd_std_dev, charge_mean, charge_std_dev)\n",
    "# Display dataframe\n",
    "ev"
   ]
  },
  {
   "cell_type": "markdown",
   "id": "e45e4a47",
   "metadata": {},
   "source": [
    "# Function to generate Random EV arrival times using a compound Gaussian and a Poisson Functions "
   ]
  },
  {
   "cell_type": "code",
   "execution_count": 4,
   "id": "7e05f849",
   "metadata": {},
   "outputs": [],
   "source": [
    "import numpy as np\n",
    "import pandas as pd\n",
    "# Creates the Poisson for number of random arrivals for a day (Scalar value)\n",
    "def number_of_arrivals(mean, size =1):\n",
    "    num_arriv = np.array([])\n",
    "    for i in range(len(mean)):\n",
    "        num_arriv = np.append(num_arriv, np.random.poisson(mean[i], size))\n",
    "    num_arriv = np.sort(np.absolute(num_arriv))\n",
    "    return (num_arriv)\n",
    "# Creates a compund Gaussian with user imputed size (vector length) \n",
    "# A vector is expected for for the function fir both the mean and std dev\n",
    "# [1 ... N] creates an Nth compound Gaussian eg, mean = [10, 20, 30], std_dev = [1, 2, 3]  creates a tri-Gaussian\n",
    "def compound_gauss(mean, std_dev, size):\n",
    "    if len(mean) == len(std_dev):\n",
    "        cpd_gauss = np.array([])\n",
    "        for i in range(len(mean)):\n",
    "            if size[i] <= 1:\n",
    "                size[i] = 1\n",
    "            cpd_gauss = np.append(cpd_gauss, np.random.default_rng().normal(mean[i], std_dev[i], int(size[i])))\n",
    "        cpd_gauss = np.sort(cpd_gauss)\n",
    "    return (cpd_gauss)\n",
    "def compound_poisson(mean, size):\n",
    "    cpd_poisson = np.array([])\n",
    "    for i in range(len(mean)):\n",
    "        if size[i] <= 1:\n",
    "            size[i] = 1\n",
    "        cpd_poisson = np.append(cpd_poisson, np.random.poisson(mean[i], int(size[i])) * 60  + np.random.randint(-30, high=30, size = int(size[i])))\n",
    "    cpd_poisson = np.sort(cpd_poisson)\n",
    "    return (cpd_poisson)\n",
    "# Creates the Poisson for arrival and leave times in minutes in a day\n",
    "def random_ev_arrivals_times(arriv_mean, cpd_mean, cpd_std_dev, charge_mean, charge_std_dev):\n",
    "    # Size (vector length) is determined by number_of_arrivals function\n",
    "    size = number_of_arrivals(arriv_mean)\n",
    "    # Input the time when peaks occur\n",
    "    arriv_time = compound_poisson(cpd_mean, size)\n",
    "    # Input the average duration of charging for each peak \n",
    "    leave_time = compound_gauss(charge_mean, charge_std_dev, size)\n",
    "    return [arriv_time, leave_time]\n",
    "# Creates a datafrrame with the arrival times, and adds a time column \n",
    "# If multiple charging sessions occur they add up\n",
    "def date_time_arrival_times(start_date, num_days, arriv_mean, cpd_mean, cpd_std_dev, charge_mean, charge_std_dev):\n",
    "    # Create a dataframe to be populated \n",
    "    df = pd.DataFrame(columns = ['arriv_time', 'leave_time'])\n",
    "    # Timestamp for each day counter \n",
    "    current_date = start_date\n",
    "    # Populates the dataframe with random arrival for each day\n",
    "    # Each day is added one at a time in the for loop\n",
    "    for i in range(num_days):\n",
    "        # Create temporary dataframe for that day that will be added main dataframe\n",
    "        temp = pd.DataFrame(columns = ['arriv_time'])\n",
    "        # Call the random arrival time function for each day\n",
    "        arriv_time, leave_time = random_ev_arrivals_times(arriv_mean, cpd_mean, cpd_std_dev, charge_mean, charge_std_dev)\n",
    "        # Converts random arrival times (minutes in a day) into timedeltas which are added to that day's timestamp\n",
    "        # Converts random arrival times into pandas timestamps \n",
    "        temp['arriv_time'] = current_date + pd.to_timedelta(arriv_time, unit = 'min')\n",
    "        # Converts random leave times (duration) into timestamps by adding arrival time to leave time timedeltas\n",
    "        temp['leave_time'] = temp['arriv_time'] + pd.to_timedelta(leave_time, unit = 'min')\n",
    "        # Add daily dataframe to the main dataframe\n",
    "        df = pd.concat([df,temp])\n",
    "        # Update the current day timestamp by adding one day\n",
    "        current_date = current_date + pd.Timedelta(1, \"d\")\n",
    "    print(len(df.arriv_time))\n",
    "    # Ensures that arrival times are in order\n",
    "    df = df.sort_values(by=['arriv_time'])\n",
    "    # Reset dataframe to organized arrival times\n",
    "    df = df.reset_index(drop = True)\n",
    "    # Seperate arrival times and leave times to create charging sessions \n",
    "    df1 = df[['arriv_time']]\n",
    "    # Set a charging session to 1\n",
    "    df1['value'] = 1\n",
    "    df1['time'] = df1['arriv_time']\n",
    "    df2 = df[['leave_time']]\n",
    "    # Set a charging session to -1 to negate a charging to shut it off\n",
    "    df2['value'] = -1\n",
    "    df2['time'] = df2['leave_time']\n",
    "    # Combine the seperated dataframes to create a charging sessions \n",
    "    ev = pd.concat([df1, df2])\n",
    "    # Sort the combined dataframes, by time \n",
    "    ev = ev.sort_values(by=['time'])\n",
    "    # Reset dataframe to organized times\n",
    "    ev = ev.reset_index(drop = True)\n",
    "    # Adds the 1 and -1s to get number of charging sessions occuring at every time interval\n",
    "    ev['fuzz'] = ev.value.cumsum()\n",
    "    # 0 - 4 charging session can occur since there are 4 charging stations\n",
    "    ev['fuzz'] = ev['fuzz'].clip(lower=0, upper = 4)\n",
    "    # Multiply by 5 kW which is the power consumption for each EV charger\n",
    "    ev['charge'] = ev['fuzz'] * 5 \n",
    "    # Organize columns \n",
    "    ev = ev[['time', 'value', 'fuzz', 'charge']]\n",
    "    return [df, ev]"
   ]
  },
  {
   "cell_type": "markdown",
   "id": "e084b65b",
   "metadata": {},
   "source": [
    "## Call the function and adjust the parameters"
   ]
  },
  {
   "cell_type": "code",
   "execution_count": 5,
   "id": "5116fda1",
   "metadata": {},
   "outputs": [
    {
     "name": "stdout",
     "output_type": "stream",
     "text": [
      "1116\n"
     ]
    },
    {
     "data": {
      "text/html": [
       "<div>\n",
       "<style scoped>\n",
       "    .dataframe tbody tr th:only-of-type {\n",
       "        vertical-align: middle;\n",
       "    }\n",
       "\n",
       "    .dataframe tbody tr th {\n",
       "        vertical-align: top;\n",
       "    }\n",
       "\n",
       "    .dataframe thead th {\n",
       "        text-align: right;\n",
       "    }\n",
       "</style>\n",
       "<table border=\"1\" class=\"dataframe\">\n",
       "  <thead>\n",
       "    <tr style=\"text-align: right;\">\n",
       "      <th></th>\n",
       "      <th>time</th>\n",
       "      <th>value</th>\n",
       "      <th>fuzz</th>\n",
       "      <th>charge</th>\n",
       "    </tr>\n",
       "  </thead>\n",
       "  <tbody>\n",
       "    <tr>\n",
       "      <th>0</th>\n",
       "      <td>2022-01-01 07:55:00.000000000</td>\n",
       "      <td>1</td>\n",
       "      <td>1</td>\n",
       "      <td>5</td>\n",
       "    </tr>\n",
       "    <tr>\n",
       "      <th>1</th>\n",
       "      <td>2022-01-01 09:08:02.450460840</td>\n",
       "      <td>-1</td>\n",
       "      <td>0</td>\n",
       "      <td>0</td>\n",
       "    </tr>\n",
       "    <tr>\n",
       "      <th>2</th>\n",
       "      <td>2022-01-01 10:05:00.000000000</td>\n",
       "      <td>1</td>\n",
       "      <td>1</td>\n",
       "      <td>5</td>\n",
       "    </tr>\n",
       "    <tr>\n",
       "      <th>3</th>\n",
       "      <td>2022-01-01 11:26:57.822455760</td>\n",
       "      <td>-1</td>\n",
       "      <td>0</td>\n",
       "      <td>0</td>\n",
       "    </tr>\n",
       "    <tr>\n",
       "      <th>4</th>\n",
       "      <td>2022-01-01 16:02:00.000000000</td>\n",
       "      <td>1</td>\n",
       "      <td>1</td>\n",
       "      <td>5</td>\n",
       "    </tr>\n",
       "    <tr>\n",
       "      <th>...</th>\n",
       "      <td>...</td>\n",
       "      <td>...</td>\n",
       "      <td>...</td>\n",
       "      <td>...</td>\n",
       "    </tr>\n",
       "    <tr>\n",
       "      <th>2227</th>\n",
       "      <td>2022-12-31 07:39:10.110357360</td>\n",
       "      <td>-1</td>\n",
       "      <td>0</td>\n",
       "      <td>0</td>\n",
       "    </tr>\n",
       "    <tr>\n",
       "      <th>2228</th>\n",
       "      <td>2022-12-31 08:28:00.000000000</td>\n",
       "      <td>1</td>\n",
       "      <td>1</td>\n",
       "      <td>5</td>\n",
       "    </tr>\n",
       "    <tr>\n",
       "      <th>2229</th>\n",
       "      <td>2022-12-31 10:09:35.311610820</td>\n",
       "      <td>-1</td>\n",
       "      <td>0</td>\n",
       "      <td>0</td>\n",
       "    </tr>\n",
       "    <tr>\n",
       "      <th>2230</th>\n",
       "      <td>2022-12-31 18:06:00.000000000</td>\n",
       "      <td>1</td>\n",
       "      <td>1</td>\n",
       "      <td>5</td>\n",
       "    </tr>\n",
       "    <tr>\n",
       "      <th>2231</th>\n",
       "      <td>2022-12-31 19:56:47.945488140</td>\n",
       "      <td>-1</td>\n",
       "      <td>0</td>\n",
       "      <td>0</td>\n",
       "    </tr>\n",
       "  </tbody>\n",
       "</table>\n",
       "<p>2232 rows × 4 columns</p>\n",
       "</div>"
      ],
      "text/plain": [
       "                              time  value  fuzz  charge\n",
       "0    2022-01-01 07:55:00.000000000      1     1       5\n",
       "1    2022-01-01 09:08:02.450460840     -1     0       0\n",
       "2    2022-01-01 10:05:00.000000000      1     1       5\n",
       "3    2022-01-01 11:26:57.822455760     -1     0       0\n",
       "4    2022-01-01 16:02:00.000000000      1     1       5\n",
       "...                            ...    ...   ...     ...\n",
       "2227 2022-12-31 07:39:10.110357360     -1     0       0\n",
       "2228 2022-12-31 08:28:00.000000000      1     1       5\n",
       "2229 2022-12-31 10:09:35.311610820     -1     0       0\n",
       "2230 2022-12-31 18:06:00.000000000      1     1       5\n",
       "2231 2022-12-31 19:56:47.945488140     -1     0       0\n",
       "\n",
       "[2232 rows x 4 columns]"
      ]
     },
     "execution_count": 5,
     "metadata": {},
     "output_type": "execute_result"
    }
   ],
   "source": [
    "arriv_mean = [0.3, 0.18, 0.12] # Average number of car arrivals\n",
    "cpd_mean = [8, 9, 13] # Arrival times peaks \n",
    "cpd_std_dev = [166, 179, 150] # [332, 358, 300] # Arrival times standard deviation\n",
    "ev_arriv = np.array([])\n",
    "start_date = pd.Timestamp(2022, 1, 1, 0) # Start date for the time deltas\n",
    "charge_mean = [90, 90, 90] # Average length of charging session \n",
    "charge_std_dev = [30, 30, 30] # Standard deviation of charging length\n",
    "num_days = 365 # Number of outputed random data \n",
    "# Call the function \n",
    "df, ev = date_time_arrival_times(start_date, num_days, arriv_mean, cpd_mean,\n",
    "                                 cpd_std_dev, charge_mean, charge_std_dev)\n",
    "# Display dataframe\n",
    "ev"
   ]
  },
  {
   "cell_type": "code",
   "execution_count": 13,
   "id": "5ce66491",
   "metadata": {},
   "outputs": [
    {
     "data": {
      "text/html": [
       "<div>\n",
       "<style scoped>\n",
       "    .dataframe tbody tr th:only-of-type {\n",
       "        vertical-align: middle;\n",
       "    }\n",
       "\n",
       "    .dataframe tbody tr th {\n",
       "        vertical-align: top;\n",
       "    }\n",
       "\n",
       "    .dataframe thead th {\n",
       "        text-align: right;\n",
       "    }\n",
       "</style>\n",
       "<table border=\"1\" class=\"dataframe\">\n",
       "  <thead>\n",
       "    <tr style=\"text-align: right;\">\n",
       "      <th></th>\n",
       "      <th>time</th>\n",
       "      <th>value</th>\n",
       "      <th>fuzz</th>\n",
       "      <th>charge</th>\n",
       "    </tr>\n",
       "  </thead>\n",
       "  <tbody>\n",
       "    <tr>\n",
       "      <th>0</th>\n",
       "      <td>2022-01-01 07:55:00</td>\n",
       "      <td>1</td>\n",
       "      <td>1</td>\n",
       "      <td>5</td>\n",
       "    </tr>\n",
       "    <tr>\n",
       "      <th>1</th>\n",
       "      <td>2022-01-01 10:05:00</td>\n",
       "      <td>1</td>\n",
       "      <td>1</td>\n",
       "      <td>5</td>\n",
       "    </tr>\n",
       "    <tr>\n",
       "      <th>2</th>\n",
       "      <td>2022-01-01 16:02:00</td>\n",
       "      <td>1</td>\n",
       "      <td>1</td>\n",
       "      <td>5</td>\n",
       "    </tr>\n",
       "    <tr>\n",
       "      <th>3</th>\n",
       "      <td>2022-01-02 07:22:00</td>\n",
       "      <td>1</td>\n",
       "      <td>1</td>\n",
       "      <td>5</td>\n",
       "    </tr>\n",
       "    <tr>\n",
       "      <th>4</th>\n",
       "      <td>2022-01-02 07:28:00</td>\n",
       "      <td>1</td>\n",
       "      <td>2</td>\n",
       "      <td>10</td>\n",
       "    </tr>\n",
       "    <tr>\n",
       "      <th>...</th>\n",
       "      <td>...</td>\n",
       "      <td>...</td>\n",
       "      <td>...</td>\n",
       "      <td>...</td>\n",
       "    </tr>\n",
       "    <tr>\n",
       "      <th>1111</th>\n",
       "      <td>2022-12-30 03:40:00</td>\n",
       "      <td>1</td>\n",
       "      <td>1</td>\n",
       "      <td>5</td>\n",
       "    </tr>\n",
       "    <tr>\n",
       "      <th>1112</th>\n",
       "      <td>2022-12-30 13:54:00</td>\n",
       "      <td>1</td>\n",
       "      <td>1</td>\n",
       "      <td>5</td>\n",
       "    </tr>\n",
       "    <tr>\n",
       "      <th>1113</th>\n",
       "      <td>2022-12-31 06:41:00</td>\n",
       "      <td>1</td>\n",
       "      <td>1</td>\n",
       "      <td>5</td>\n",
       "    </tr>\n",
       "    <tr>\n",
       "      <th>1114</th>\n",
       "      <td>2022-12-31 08:28:00</td>\n",
       "      <td>1</td>\n",
       "      <td>1</td>\n",
       "      <td>5</td>\n",
       "    </tr>\n",
       "    <tr>\n",
       "      <th>1115</th>\n",
       "      <td>2022-12-31 18:06:00</td>\n",
       "      <td>1</td>\n",
       "      <td>1</td>\n",
       "      <td>5</td>\n",
       "    </tr>\n",
       "  </tbody>\n",
       "</table>\n",
       "<p>1116 rows × 4 columns</p>\n",
       "</div>"
      ],
      "text/plain": [
       "                    time  value  fuzz  charge\n",
       "0    2022-01-01 07:55:00      1     1       5\n",
       "1    2022-01-01 10:05:00      1     1       5\n",
       "2    2022-01-01 16:02:00      1     1       5\n",
       "3    2022-01-02 07:22:00      1     1       5\n",
       "4    2022-01-02 07:28:00      1     2      10\n",
       "...                  ...    ...   ...     ...\n",
       "1111 2022-12-30 03:40:00      1     1       5\n",
       "1112 2022-12-30 13:54:00      1     1       5\n",
       "1113 2022-12-31 06:41:00      1     1       5\n",
       "1114 2022-12-31 08:28:00      1     1       5\n",
       "1115 2022-12-31 18:06:00      1     1       5\n",
       "\n",
       "[1116 rows x 4 columns]"
      ]
     },
     "execution_count": 13,
     "metadata": {},
     "output_type": "execute_result"
    }
   ],
   "source": [
    "arriv = ev[ev.value == 1].reset_index(drop=True)\n",
    "arriv"
   ]
  },
  {
   "cell_type": "code",
   "execution_count": null,
   "id": "95ea7ad2",
   "metadata": {},
   "outputs": [],
   "source": [
    "avg_day"
   ]
  },
  {
   "cell_type": "markdown",
   "id": "19c03786",
   "metadata": {},
   "source": [
    "## Convert on off sessions into 1 minute data for 1 year "
   ]
  },
  {
   "cell_type": "markdown",
   "id": "6312de95",
   "metadata": {},
   "source": [
    "## Convert on off sessions into 1 minute data for 1 year "
   ]
  },
  {
   "cell_type": "markdown",
   "id": "4d165f56",
   "metadata": {},
   "source": [
    "Resampler function"
   ]
  },
  {
   "cell_type": "code",
   "execution_count": 6,
   "id": "e70b3a99",
   "metadata": {},
   "outputs": [],
   "source": [
    "def resample(df, time_column = 'time', resample_rate = '5T'):\n",
    "    df[time_column] = pd.to_datetime(df[time_column])\n",
    "    df = df.set_index(df[time_column])\n",
    "    df = df.drop(columns = [time_column])\n",
    "    df = df.resample(resample_rate).last().ffill()  #df.groupby(pd.Grouper(key=time_column, freq=resample_rate)).ffill().bfill() \n",
    "    df.insert(loc=0, column=time_column, value=df.index) #df.insert(loc=0, column=time_column, value=df.index)\n",
    "    df = df.reset_index(drop=True)\n",
    "    #df.fillna(0)\n",
    "    #df = df.astype(int, errors='ignore')\n",
    "    #df = df.fillna(0)\n",
    "    return df"
   ]
  },
  {
   "cell_type": "markdown",
   "id": "b3c1c49c",
   "metadata": {},
   "source": [
    " Insert start and end timestamp to ensure a complete 15 minute year (35040 rows), and call the resampler function"
   ]
  },
  {
   "cell_type": "code",
   "execution_count": 14,
   "id": "60c33d0c",
   "metadata": {},
   "outputs": [
    {
     "data": {
      "text/html": [
       "<div>\n",
       "<style scoped>\n",
       "    .dataframe tbody tr th:only-of-type {\n",
       "        vertical-align: middle;\n",
       "    }\n",
       "\n",
       "    .dataframe tbody tr th {\n",
       "        vertical-align: top;\n",
       "    }\n",
       "\n",
       "    .dataframe thead th {\n",
       "        text-align: right;\n",
       "    }\n",
       "</style>\n",
       "<table border=\"1\" class=\"dataframe\">\n",
       "  <thead>\n",
       "    <tr style=\"text-align: right;\">\n",
       "      <th></th>\n",
       "      <th>time</th>\n",
       "      <th>value</th>\n",
       "      <th>fuzz</th>\n",
       "      <th>charge</th>\n",
       "    </tr>\n",
       "  </thead>\n",
       "  <tbody>\n",
       "    <tr>\n",
       "      <th>0</th>\n",
       "      <td>2022-01-01 00:00:00</td>\n",
       "      <td>0.0</td>\n",
       "      <td>0.0</td>\n",
       "      <td>0.0</td>\n",
       "    </tr>\n",
       "    <tr>\n",
       "      <th>1</th>\n",
       "      <td>2022-01-01 00:01:00</td>\n",
       "      <td>0.0</td>\n",
       "      <td>0.0</td>\n",
       "      <td>0.0</td>\n",
       "    </tr>\n",
       "    <tr>\n",
       "      <th>2</th>\n",
       "      <td>2022-01-01 00:02:00</td>\n",
       "      <td>0.0</td>\n",
       "      <td>0.0</td>\n",
       "      <td>0.0</td>\n",
       "    </tr>\n",
       "    <tr>\n",
       "      <th>3</th>\n",
       "      <td>2022-01-01 00:03:00</td>\n",
       "      <td>0.0</td>\n",
       "      <td>0.0</td>\n",
       "      <td>0.0</td>\n",
       "    </tr>\n",
       "    <tr>\n",
       "      <th>4</th>\n",
       "      <td>2022-01-01 00:04:00</td>\n",
       "      <td>0.0</td>\n",
       "      <td>0.0</td>\n",
       "      <td>0.0</td>\n",
       "    </tr>\n",
       "    <tr>\n",
       "      <th>...</th>\n",
       "      <td>...</td>\n",
       "      <td>...</td>\n",
       "      <td>...</td>\n",
       "      <td>...</td>\n",
       "    </tr>\n",
       "    <tr>\n",
       "      <th>525595</th>\n",
       "      <td>2022-12-31 23:55:00</td>\n",
       "      <td>-1.0</td>\n",
       "      <td>0.0</td>\n",
       "      <td>0.0</td>\n",
       "    </tr>\n",
       "    <tr>\n",
       "      <th>525596</th>\n",
       "      <td>2022-12-31 23:56:00</td>\n",
       "      <td>-1.0</td>\n",
       "      <td>0.0</td>\n",
       "      <td>0.0</td>\n",
       "    </tr>\n",
       "    <tr>\n",
       "      <th>525597</th>\n",
       "      <td>2022-12-31 23:57:00</td>\n",
       "      <td>-1.0</td>\n",
       "      <td>0.0</td>\n",
       "      <td>0.0</td>\n",
       "    </tr>\n",
       "    <tr>\n",
       "      <th>525598</th>\n",
       "      <td>2022-12-31 23:58:00</td>\n",
       "      <td>-1.0</td>\n",
       "      <td>0.0</td>\n",
       "      <td>0.0</td>\n",
       "    </tr>\n",
       "    <tr>\n",
       "      <th>525599</th>\n",
       "      <td>2022-12-31 23:59:00</td>\n",
       "      <td>-1.0</td>\n",
       "      <td>0.0</td>\n",
       "      <td>0.0</td>\n",
       "    </tr>\n",
       "  </tbody>\n",
       "</table>\n",
       "<p>525600 rows × 4 columns</p>\n",
       "</div>"
      ],
      "text/plain": [
       "                      time  value  fuzz  charge\n",
       "0      2022-01-01 00:00:00    0.0   0.0     0.0\n",
       "1      2022-01-01 00:01:00    0.0   0.0     0.0\n",
       "2      2022-01-01 00:02:00    0.0   0.0     0.0\n",
       "3      2022-01-01 00:03:00    0.0   0.0     0.0\n",
       "4      2022-01-01 00:04:00    0.0   0.0     0.0\n",
       "...                    ...    ...   ...     ...\n",
       "525595 2022-12-31 23:55:00   -1.0   0.0     0.0\n",
       "525596 2022-12-31 23:56:00   -1.0   0.0     0.0\n",
       "525597 2022-12-31 23:57:00   -1.0   0.0     0.0\n",
       "525598 2022-12-31 23:58:00   -1.0   0.0     0.0\n",
       "525599 2022-12-31 23:59:00   -1.0   0.0     0.0\n",
       "\n",
       "[525600 rows x 4 columns]"
      ]
     },
     "execution_count": 14,
     "metadata": {},
     "output_type": "execute_result"
    }
   ],
   "source": [
    "first_row = {'time':pd.Timestamp('2022-01-01 00:00:00'), 'value':0, 'fuzz':0, 'charge':0}\n",
    "last_row = {'time':pd.Timestamp('2023-01-01 00:00:00'), 'value':0, 'fuzz':0, 'charge':0}\n",
    "ev_pad = ev\n",
    "ev_pad = pd.concat([ev_pad, pd.DataFrame([first_row])], ignore_index=True)\n",
    "ev_pad = pd.concat([ev_pad, pd.DataFrame([last_row])], ignore_index=True)\n",
    "ev_pad = ev_pad.sort_values(by=['time'])\n",
    "ev_pad = ev_pad.reset_index(drop = True)\n",
    "ev_pad = resample(ev_pad, resample_rate = '1T')\n",
    "ev_pad = ev_pad[ev_pad.time.between('2022-01-01 00:00:00', '2022-12-31 23:59:59')].reset_index(drop=True)\n",
    "ev_pad"
   ]
  },
  {
   "cell_type": "markdown",
   "id": "1fabba09",
   "metadata": {},
   "source": [
    "## Find the average day for the random genrator data and compare it to the original data"
   ]
  },
  {
   "cell_type": "code",
   "execution_count": 15,
   "id": "f2bae00a",
   "metadata": {},
   "outputs": [],
   "source": [
    "time_array, avg_day = time_sep_label(ev_pad, value_column = 'charge')"
   ]
  },
  {
   "cell_type": "code",
   "execution_count": 16,
   "id": "93a712be",
   "metadata": {},
   "outputs": [],
   "source": [
    "time_array, avg_day = time_sep_label_sum(arriv, resample_rate = '60T')"
   ]
  },
  {
   "cell_type": "code",
   "execution_count": null,
   "id": "8d289a2a",
   "metadata": {},
   "outputs": [],
   "source": [
    "time_array"
   ]
  },
  {
   "cell_type": "code",
   "execution_count": 17,
   "id": "cf054b4b",
   "metadata": {},
   "outputs": [
    {
     "data": {
      "text/html": [
       "<div>\n",
       "<style scoped>\n",
       "    .dataframe tbody tr th:only-of-type {\n",
       "        vertical-align: middle;\n",
       "    }\n",
       "\n",
       "    .dataframe tbody tr th {\n",
       "        vertical-align: top;\n",
       "    }\n",
       "\n",
       "    .dataframe thead th {\n",
       "        text-align: right;\n",
       "    }\n",
       "</style>\n",
       "<table border=\"1\" class=\"dataframe\">\n",
       "  <thead>\n",
       "    <tr style=\"text-align: right;\">\n",
       "      <th></th>\n",
       "      <th>time</th>\n",
       "      <th>avg_day</th>\n",
       "    </tr>\n",
       "  </thead>\n",
       "  <tbody>\n",
       "    <tr>\n",
       "      <th>0</th>\n",
       "      <td>00:00</td>\n",
       "      <td>1</td>\n",
       "    </tr>\n",
       "    <tr>\n",
       "      <th>1</th>\n",
       "      <td>01:00</td>\n",
       "      <td>2</td>\n",
       "    </tr>\n",
       "    <tr>\n",
       "      <th>2</th>\n",
       "      <td>02:00</td>\n",
       "      <td>11</td>\n",
       "    </tr>\n",
       "    <tr>\n",
       "      <th>3</th>\n",
       "      <td>03:00</td>\n",
       "      <td>19</td>\n",
       "    </tr>\n",
       "    <tr>\n",
       "      <th>4</th>\n",
       "      <td>04:00</td>\n",
       "      <td>41</td>\n",
       "    </tr>\n",
       "    <tr>\n",
       "      <th>5</th>\n",
       "      <td>05:00</td>\n",
       "      <td>55</td>\n",
       "    </tr>\n",
       "    <tr>\n",
       "      <th>6</th>\n",
       "      <td>06:00</td>\n",
       "      <td>79</td>\n",
       "    </tr>\n",
       "    <tr>\n",
       "      <th>7</th>\n",
       "      <td>07:00</td>\n",
       "      <td>122</td>\n",
       "    </tr>\n",
       "    <tr>\n",
       "      <th>8</th>\n",
       "      <td>08:00</td>\n",
       "      <td>110</td>\n",
       "    </tr>\n",
       "    <tr>\n",
       "      <th>9</th>\n",
       "      <td>09:00</td>\n",
       "      <td>105</td>\n",
       "    </tr>\n",
       "    <tr>\n",
       "      <th>10</th>\n",
       "      <td>10:00</td>\n",
       "      <td>99</td>\n",
       "    </tr>\n",
       "    <tr>\n",
       "      <th>11</th>\n",
       "      <td>11:00</td>\n",
       "      <td>78</td>\n",
       "    </tr>\n",
       "    <tr>\n",
       "      <th>12</th>\n",
       "      <td>12:00</td>\n",
       "      <td>74</td>\n",
       "    </tr>\n",
       "    <tr>\n",
       "      <th>13</th>\n",
       "      <td>13:00</td>\n",
       "      <td>60</td>\n",
       "    </tr>\n",
       "    <tr>\n",
       "      <th>14</th>\n",
       "      <td>14:00</td>\n",
       "      <td>48</td>\n",
       "    </tr>\n",
       "    <tr>\n",
       "      <th>15</th>\n",
       "      <td>15:00</td>\n",
       "      <td>38</td>\n",
       "    </tr>\n",
       "    <tr>\n",
       "      <th>16</th>\n",
       "      <td>16:00</td>\n",
       "      <td>32</td>\n",
       "    </tr>\n",
       "    <tr>\n",
       "      <th>17</th>\n",
       "      <td>17:00</td>\n",
       "      <td>19</td>\n",
       "    </tr>\n",
       "    <tr>\n",
       "      <th>18</th>\n",
       "      <td>18:00</td>\n",
       "      <td>12</td>\n",
       "    </tr>\n",
       "    <tr>\n",
       "      <th>19</th>\n",
       "      <td>19:00</td>\n",
       "      <td>8</td>\n",
       "    </tr>\n",
       "    <tr>\n",
       "      <th>20</th>\n",
       "      <td>20:00</td>\n",
       "      <td>9</td>\n",
       "    </tr>\n",
       "    <tr>\n",
       "      <th>21</th>\n",
       "      <td>21:00</td>\n",
       "      <td>8</td>\n",
       "    </tr>\n",
       "    <tr>\n",
       "      <th>22</th>\n",
       "      <td>22:00</td>\n",
       "      <td>4</td>\n",
       "    </tr>\n",
       "    <tr>\n",
       "      <th>23</th>\n",
       "      <td>23:00</td>\n",
       "      <td>0</td>\n",
       "    </tr>\n",
       "  </tbody>\n",
       "</table>\n",
       "</div>"
      ],
      "text/plain": [
       "     time  avg_day\n",
       "0   00:00        1\n",
       "1   01:00        2\n",
       "2   02:00       11\n",
       "3   03:00       19\n",
       "4   04:00       41\n",
       "5   05:00       55\n",
       "6   06:00       79\n",
       "7   07:00      122\n",
       "8   08:00      110\n",
       "9   09:00      105\n",
       "10  10:00       99\n",
       "11  11:00       78\n",
       "12  12:00       74\n",
       "13  13:00       60\n",
       "14  14:00       48\n",
       "15  15:00       38\n",
       "16  16:00       32\n",
       "17  17:00       19\n",
       "18  18:00       12\n",
       "19  19:00        8\n",
       "20  20:00        9\n",
       "21  21:00        8\n",
       "22  22:00        4\n",
       "23  23:00        0"
      ]
     },
     "execution_count": 17,
     "metadata": {},
     "output_type": "execute_result"
    }
   ],
   "source": [
    "avg_day = pd.DataFrame({'time': time_array, 'avg_day': avg_day})\n",
    "avg_day"
   ]
  },
  {
   "cell_type": "code",
   "execution_count": 18,
   "id": "e12731e7",
   "metadata": {},
   "outputs": [
    {
     "data": {
      "text/html": [
       "<div>\n",
       "<style scoped>\n",
       "    .dataframe tbody tr th:only-of-type {\n",
       "        vertical-align: middle;\n",
       "    }\n",
       "\n",
       "    .dataframe tbody tr th {\n",
       "        vertical-align: top;\n",
       "    }\n",
       "\n",
       "    .dataframe thead th {\n",
       "        text-align: right;\n",
       "    }\n",
       "</style>\n",
       "<table border=\"1\" class=\"dataframe\">\n",
       "  <thead>\n",
       "    <tr style=\"text-align: right;\">\n",
       "      <th></th>\n",
       "      <th>hour</th>\n",
       "      <th>sessions</th>\n",
       "    </tr>\n",
       "  </thead>\n",
       "  <tbody>\n",
       "    <tr>\n",
       "      <th>0</th>\n",
       "      <td>0</td>\n",
       "      <td>2</td>\n",
       "    </tr>\n",
       "    <tr>\n",
       "      <th>1</th>\n",
       "      <td>1</td>\n",
       "      <td>0</td>\n",
       "    </tr>\n",
       "    <tr>\n",
       "      <th>2</th>\n",
       "      <td>2</td>\n",
       "      <td>0</td>\n",
       "    </tr>\n",
       "    <tr>\n",
       "      <th>3</th>\n",
       "      <td>3</td>\n",
       "      <td>0</td>\n",
       "    </tr>\n",
       "    <tr>\n",
       "      <th>4</th>\n",
       "      <td>4</td>\n",
       "      <td>0</td>\n",
       "    </tr>\n",
       "    <tr>\n",
       "      <th>5</th>\n",
       "      <td>5</td>\n",
       "      <td>1</td>\n",
       "    </tr>\n",
       "    <tr>\n",
       "      <th>6</th>\n",
       "      <td>6</td>\n",
       "      <td>11</td>\n",
       "    </tr>\n",
       "    <tr>\n",
       "      <th>7</th>\n",
       "      <td>7</td>\n",
       "      <td>186</td>\n",
       "    </tr>\n",
       "    <tr>\n",
       "      <th>8</th>\n",
       "      <td>8</td>\n",
       "      <td>59</td>\n",
       "    </tr>\n",
       "    <tr>\n",
       "      <th>9</th>\n",
       "      <td>9</td>\n",
       "      <td>112</td>\n",
       "    </tr>\n",
       "    <tr>\n",
       "      <th>10</th>\n",
       "      <td>10</td>\n",
       "      <td>66</td>\n",
       "    </tr>\n",
       "    <tr>\n",
       "      <th>11</th>\n",
       "      <td>11</td>\n",
       "      <td>57</td>\n",
       "    </tr>\n",
       "    <tr>\n",
       "      <th>12</th>\n",
       "      <td>12</td>\n",
       "      <td>60</td>\n",
       "    </tr>\n",
       "    <tr>\n",
       "      <th>13</th>\n",
       "      <td>13</td>\n",
       "      <td>79</td>\n",
       "    </tr>\n",
       "    <tr>\n",
       "      <th>14</th>\n",
       "      <td>14</td>\n",
       "      <td>46</td>\n",
       "    </tr>\n",
       "    <tr>\n",
       "      <th>15</th>\n",
       "      <td>15</td>\n",
       "      <td>32</td>\n",
       "    </tr>\n",
       "    <tr>\n",
       "      <th>16</th>\n",
       "      <td>16</td>\n",
       "      <td>19</td>\n",
       "    </tr>\n",
       "    <tr>\n",
       "      <th>17</th>\n",
       "      <td>17</td>\n",
       "      <td>16</td>\n",
       "    </tr>\n",
       "    <tr>\n",
       "      <th>18</th>\n",
       "      <td>18</td>\n",
       "      <td>8</td>\n",
       "    </tr>\n",
       "    <tr>\n",
       "      <th>19</th>\n",
       "      <td>19</td>\n",
       "      <td>11</td>\n",
       "    </tr>\n",
       "    <tr>\n",
       "      <th>20</th>\n",
       "      <td>20</td>\n",
       "      <td>15</td>\n",
       "    </tr>\n",
       "    <tr>\n",
       "      <th>21</th>\n",
       "      <td>21</td>\n",
       "      <td>7</td>\n",
       "    </tr>\n",
       "    <tr>\n",
       "      <th>22</th>\n",
       "      <td>22</td>\n",
       "      <td>2</td>\n",
       "    </tr>\n",
       "    <tr>\n",
       "      <th>23</th>\n",
       "      <td>23</td>\n",
       "      <td>0</td>\n",
       "    </tr>\n",
       "  </tbody>\n",
       "</table>\n",
       "</div>"
      ],
      "text/plain": [
       "    hour  sessions\n",
       "0      0         2\n",
       "1      1         0\n",
       "2      2         0\n",
       "3      3         0\n",
       "4      4         0\n",
       "5      5         1\n",
       "6      6        11\n",
       "7      7       186\n",
       "8      8        59\n",
       "9      9       112\n",
       "10    10        66\n",
       "11    11        57\n",
       "12    12        60\n",
       "13    13        79\n",
       "14    14        46\n",
       "15    15        32\n",
       "16    16        19\n",
       "17    17        16\n",
       "18    18         8\n",
       "19    19        11\n",
       "20    20        15\n",
       "21    21         7\n",
       "22    22         2\n",
       "23    23         0"
      ]
     },
     "execution_count": 18,
     "metadata": {},
     "output_type": "execute_result"
    }
   ],
   "source": [
    "lib = pd.read_excel('/home/lencon/Git_Research/summer_2023_conf_paper/Code/EV_Charger/HourlySessionUsage.xlsx')\n",
    "lib"
   ]
  },
  {
   "cell_type": "code",
   "execution_count": 23,
   "id": "004efd53",
   "metadata": {},
   "outputs": [
    {
     "data": {
      "application/vnd.plotly.v1+json": {
       "config": {
        "plotlyServerURL": "https://plot.ly"
       },
       "data": [
        {
         "name": "<B>Number of Real Sessions</B>",
         "type": "scattergl",
         "x": [
          "00:00",
          "01:00",
          "02:00",
          "03:00",
          "04:00",
          "05:00",
          "06:00",
          "07:00",
          "08:00",
          "09:00",
          "10:00",
          "11:00",
          "12:00",
          "13:00",
          "14:00",
          "15:00",
          "16:00",
          "17:00",
          "18:00",
          "19:00",
          "20:00",
          "21:00",
          "22:00",
          "23:00"
         ],
         "y": [
          2,
          0,
          0,
          0,
          0,
          1,
          11,
          186,
          59,
          112,
          66,
          57,
          60,
          79,
          46,
          32,
          19,
          16,
          8,
          11,
          15,
          7,
          2,
          0
         ]
        },
        {
         "name": "<B>Number of Simulated Sessions</B>",
         "type": "scattergl",
         "x": [
          "00:00",
          "01:00",
          "02:00",
          "03:00",
          "04:00",
          "05:00",
          "06:00",
          "07:00",
          "08:00",
          "09:00",
          "10:00",
          "11:00",
          "12:00",
          "13:00",
          "14:00",
          "15:00",
          "16:00",
          "17:00",
          "18:00",
          "19:00",
          "20:00",
          "21:00",
          "22:00",
          "23:00"
         ],
         "y": [
          1,
          2,
          11,
          19,
          41,
          55,
          79,
          122,
          110,
          105,
          99,
          78,
          74,
          60,
          48,
          38,
          32,
          19,
          12,
          8,
          9,
          8,
          4,
          0
         ]
        }
       ],
       "layout": {
        "plot_bgcolor": "white",
        "template": {
         "data": {
          "bar": [
           {
            "error_x": {
             "color": "#2a3f5f"
            },
            "error_y": {
             "color": "#2a3f5f"
            },
            "marker": {
             "line": {
              "color": "#E5ECF6",
              "width": 0.5
             },
             "pattern": {
              "fillmode": "overlay",
              "size": 10,
              "solidity": 0.2
             }
            },
            "type": "bar"
           }
          ],
          "barpolar": [
           {
            "marker": {
             "line": {
              "color": "#E5ECF6",
              "width": 0.5
             },
             "pattern": {
              "fillmode": "overlay",
              "size": 10,
              "solidity": 0.2
             }
            },
            "type": "barpolar"
           }
          ],
          "carpet": [
           {
            "aaxis": {
             "endlinecolor": "#2a3f5f",
             "gridcolor": "white",
             "linecolor": "white",
             "minorgridcolor": "white",
             "startlinecolor": "#2a3f5f"
            },
            "baxis": {
             "endlinecolor": "#2a3f5f",
             "gridcolor": "white",
             "linecolor": "white",
             "minorgridcolor": "white",
             "startlinecolor": "#2a3f5f"
            },
            "type": "carpet"
           }
          ],
          "choropleth": [
           {
            "colorbar": {
             "outlinewidth": 0,
             "ticks": ""
            },
            "type": "choropleth"
           }
          ],
          "contour": [
           {
            "colorbar": {
             "outlinewidth": 0,
             "ticks": ""
            },
            "colorscale": [
             [
              0,
              "#0d0887"
             ],
             [
              0.1111111111111111,
              "#46039f"
             ],
             [
              0.2222222222222222,
              "#7201a8"
             ],
             [
              0.3333333333333333,
              "#9c179e"
             ],
             [
              0.4444444444444444,
              "#bd3786"
             ],
             [
              0.5555555555555556,
              "#d8576b"
             ],
             [
              0.6666666666666666,
              "#ed7953"
             ],
             [
              0.7777777777777778,
              "#fb9f3a"
             ],
             [
              0.8888888888888888,
              "#fdca26"
             ],
             [
              1,
              "#f0f921"
             ]
            ],
            "type": "contour"
           }
          ],
          "contourcarpet": [
           {
            "colorbar": {
             "outlinewidth": 0,
             "ticks": ""
            },
            "type": "contourcarpet"
           }
          ],
          "heatmap": [
           {
            "colorbar": {
             "outlinewidth": 0,
             "ticks": ""
            },
            "colorscale": [
             [
              0,
              "#0d0887"
             ],
             [
              0.1111111111111111,
              "#46039f"
             ],
             [
              0.2222222222222222,
              "#7201a8"
             ],
             [
              0.3333333333333333,
              "#9c179e"
             ],
             [
              0.4444444444444444,
              "#bd3786"
             ],
             [
              0.5555555555555556,
              "#d8576b"
             ],
             [
              0.6666666666666666,
              "#ed7953"
             ],
             [
              0.7777777777777778,
              "#fb9f3a"
             ],
             [
              0.8888888888888888,
              "#fdca26"
             ],
             [
              1,
              "#f0f921"
             ]
            ],
            "type": "heatmap"
           }
          ],
          "heatmapgl": [
           {
            "colorbar": {
             "outlinewidth": 0,
             "ticks": ""
            },
            "colorscale": [
             [
              0,
              "#0d0887"
             ],
             [
              0.1111111111111111,
              "#46039f"
             ],
             [
              0.2222222222222222,
              "#7201a8"
             ],
             [
              0.3333333333333333,
              "#9c179e"
             ],
             [
              0.4444444444444444,
              "#bd3786"
             ],
             [
              0.5555555555555556,
              "#d8576b"
             ],
             [
              0.6666666666666666,
              "#ed7953"
             ],
             [
              0.7777777777777778,
              "#fb9f3a"
             ],
             [
              0.8888888888888888,
              "#fdca26"
             ],
             [
              1,
              "#f0f921"
             ]
            ],
            "type": "heatmapgl"
           }
          ],
          "histogram": [
           {
            "marker": {
             "pattern": {
              "fillmode": "overlay",
              "size": 10,
              "solidity": 0.2
             }
            },
            "type": "histogram"
           }
          ],
          "histogram2d": [
           {
            "colorbar": {
             "outlinewidth": 0,
             "ticks": ""
            },
            "colorscale": [
             [
              0,
              "#0d0887"
             ],
             [
              0.1111111111111111,
              "#46039f"
             ],
             [
              0.2222222222222222,
              "#7201a8"
             ],
             [
              0.3333333333333333,
              "#9c179e"
             ],
             [
              0.4444444444444444,
              "#bd3786"
             ],
             [
              0.5555555555555556,
              "#d8576b"
             ],
             [
              0.6666666666666666,
              "#ed7953"
             ],
             [
              0.7777777777777778,
              "#fb9f3a"
             ],
             [
              0.8888888888888888,
              "#fdca26"
             ],
             [
              1,
              "#f0f921"
             ]
            ],
            "type": "histogram2d"
           }
          ],
          "histogram2dcontour": [
           {
            "colorbar": {
             "outlinewidth": 0,
             "ticks": ""
            },
            "colorscale": [
             [
              0,
              "#0d0887"
             ],
             [
              0.1111111111111111,
              "#46039f"
             ],
             [
              0.2222222222222222,
              "#7201a8"
             ],
             [
              0.3333333333333333,
              "#9c179e"
             ],
             [
              0.4444444444444444,
              "#bd3786"
             ],
             [
              0.5555555555555556,
              "#d8576b"
             ],
             [
              0.6666666666666666,
              "#ed7953"
             ],
             [
              0.7777777777777778,
              "#fb9f3a"
             ],
             [
              0.8888888888888888,
              "#fdca26"
             ],
             [
              1,
              "#f0f921"
             ]
            ],
            "type": "histogram2dcontour"
           }
          ],
          "mesh3d": [
           {
            "colorbar": {
             "outlinewidth": 0,
             "ticks": ""
            },
            "type": "mesh3d"
           }
          ],
          "parcoords": [
           {
            "line": {
             "colorbar": {
              "outlinewidth": 0,
              "ticks": ""
             }
            },
            "type": "parcoords"
           }
          ],
          "pie": [
           {
            "automargin": true,
            "type": "pie"
           }
          ],
          "scatter": [
           {
            "fillpattern": {
             "fillmode": "overlay",
             "size": 10,
             "solidity": 0.2
            },
            "type": "scatter"
           }
          ],
          "scatter3d": [
           {
            "line": {
             "colorbar": {
              "outlinewidth": 0,
              "ticks": ""
             }
            },
            "marker": {
             "colorbar": {
              "outlinewidth": 0,
              "ticks": ""
             }
            },
            "type": "scatter3d"
           }
          ],
          "scattercarpet": [
           {
            "marker": {
             "colorbar": {
              "outlinewidth": 0,
              "ticks": ""
             }
            },
            "type": "scattercarpet"
           }
          ],
          "scattergeo": [
           {
            "marker": {
             "colorbar": {
              "outlinewidth": 0,
              "ticks": ""
             }
            },
            "type": "scattergeo"
           }
          ],
          "scattergl": [
           {
            "marker": {
             "colorbar": {
              "outlinewidth": 0,
              "ticks": ""
             }
            },
            "type": "scattergl"
           }
          ],
          "scattermapbox": [
           {
            "marker": {
             "colorbar": {
              "outlinewidth": 0,
              "ticks": ""
             }
            },
            "type": "scattermapbox"
           }
          ],
          "scatterpolar": [
           {
            "marker": {
             "colorbar": {
              "outlinewidth": 0,
              "ticks": ""
             }
            },
            "type": "scatterpolar"
           }
          ],
          "scatterpolargl": [
           {
            "marker": {
             "colorbar": {
              "outlinewidth": 0,
              "ticks": ""
             }
            },
            "type": "scatterpolargl"
           }
          ],
          "scatterternary": [
           {
            "marker": {
             "colorbar": {
              "outlinewidth": 0,
              "ticks": ""
             }
            },
            "type": "scatterternary"
           }
          ],
          "surface": [
           {
            "colorbar": {
             "outlinewidth": 0,
             "ticks": ""
            },
            "colorscale": [
             [
              0,
              "#0d0887"
             ],
             [
              0.1111111111111111,
              "#46039f"
             ],
             [
              0.2222222222222222,
              "#7201a8"
             ],
             [
              0.3333333333333333,
              "#9c179e"
             ],
             [
              0.4444444444444444,
              "#bd3786"
             ],
             [
              0.5555555555555556,
              "#d8576b"
             ],
             [
              0.6666666666666666,
              "#ed7953"
             ],
             [
              0.7777777777777778,
              "#fb9f3a"
             ],
             [
              0.8888888888888888,
              "#fdca26"
             ],
             [
              1,
              "#f0f921"
             ]
            ],
            "type": "surface"
           }
          ],
          "table": [
           {
            "cells": {
             "fill": {
              "color": "#EBF0F8"
             },
             "line": {
              "color": "white"
             }
            },
            "header": {
             "fill": {
              "color": "#C8D4E3"
             },
             "line": {
              "color": "white"
             }
            },
            "type": "table"
           }
          ]
         },
         "layout": {
          "annotationdefaults": {
           "arrowcolor": "#2a3f5f",
           "arrowhead": 0,
           "arrowwidth": 1
          },
          "autotypenumbers": "strict",
          "coloraxis": {
           "colorbar": {
            "outlinewidth": 0,
            "ticks": ""
           }
          },
          "colorscale": {
           "diverging": [
            [
             0,
             "#8e0152"
            ],
            [
             0.1,
             "#c51b7d"
            ],
            [
             0.2,
             "#de77ae"
            ],
            [
             0.3,
             "#f1b6da"
            ],
            [
             0.4,
             "#fde0ef"
            ],
            [
             0.5,
             "#f7f7f7"
            ],
            [
             0.6,
             "#e6f5d0"
            ],
            [
             0.7,
             "#b8e186"
            ],
            [
             0.8,
             "#7fbc41"
            ],
            [
             0.9,
             "#4d9221"
            ],
            [
             1,
             "#276419"
            ]
           ],
           "sequential": [
            [
             0,
             "#0d0887"
            ],
            [
             0.1111111111111111,
             "#46039f"
            ],
            [
             0.2222222222222222,
             "#7201a8"
            ],
            [
             0.3333333333333333,
             "#9c179e"
            ],
            [
             0.4444444444444444,
             "#bd3786"
            ],
            [
             0.5555555555555556,
             "#d8576b"
            ],
            [
             0.6666666666666666,
             "#ed7953"
            ],
            [
             0.7777777777777778,
             "#fb9f3a"
            ],
            [
             0.8888888888888888,
             "#fdca26"
            ],
            [
             1,
             "#f0f921"
            ]
           ],
           "sequentialminus": [
            [
             0,
             "#0d0887"
            ],
            [
             0.1111111111111111,
             "#46039f"
            ],
            [
             0.2222222222222222,
             "#7201a8"
            ],
            [
             0.3333333333333333,
             "#9c179e"
            ],
            [
             0.4444444444444444,
             "#bd3786"
            ],
            [
             0.5555555555555556,
             "#d8576b"
            ],
            [
             0.6666666666666666,
             "#ed7953"
            ],
            [
             0.7777777777777778,
             "#fb9f3a"
            ],
            [
             0.8888888888888888,
             "#fdca26"
            ],
            [
             1,
             "#f0f921"
            ]
           ]
          },
          "colorway": [
           "#636efa",
           "#EF553B",
           "#00cc96",
           "#ab63fa",
           "#FFA15A",
           "#19d3f3",
           "#FF6692",
           "#B6E880",
           "#FF97FF",
           "#FECB52"
          ],
          "font": {
           "color": "#2a3f5f"
          },
          "geo": {
           "bgcolor": "white",
           "lakecolor": "white",
           "landcolor": "#E5ECF6",
           "showlakes": true,
           "showland": true,
           "subunitcolor": "white"
          },
          "hoverlabel": {
           "align": "left"
          },
          "hovermode": "closest",
          "mapbox": {
           "style": "light"
          },
          "paper_bgcolor": "white",
          "plot_bgcolor": "#E5ECF6",
          "polar": {
           "angularaxis": {
            "gridcolor": "white",
            "linecolor": "white",
            "ticks": ""
           },
           "bgcolor": "#E5ECF6",
           "radialaxis": {
            "gridcolor": "white",
            "linecolor": "white",
            "ticks": ""
           }
          },
          "scene": {
           "xaxis": {
            "backgroundcolor": "#E5ECF6",
            "gridcolor": "white",
            "gridwidth": 2,
            "linecolor": "white",
            "showbackground": true,
            "ticks": "",
            "zerolinecolor": "white"
           },
           "yaxis": {
            "backgroundcolor": "#E5ECF6",
            "gridcolor": "white",
            "gridwidth": 2,
            "linecolor": "white",
            "showbackground": true,
            "ticks": "",
            "zerolinecolor": "white"
           },
           "zaxis": {
            "backgroundcolor": "#E5ECF6",
            "gridcolor": "white",
            "gridwidth": 2,
            "linecolor": "white",
            "showbackground": true,
            "ticks": "",
            "zerolinecolor": "white"
           }
          },
          "shapedefaults": {
           "line": {
            "color": "#2a3f5f"
           }
          },
          "ternary": {
           "aaxis": {
            "gridcolor": "white",
            "linecolor": "white",
            "ticks": ""
           },
           "baxis": {
            "gridcolor": "white",
            "linecolor": "white",
            "ticks": ""
           },
           "bgcolor": "#E5ECF6",
           "caxis": {
            "gridcolor": "white",
            "linecolor": "white",
            "ticks": ""
           }
          },
          "title": {
           "x": 0.05
          },
          "xaxis": {
           "automargin": true,
           "gridcolor": "white",
           "linecolor": "white",
           "ticks": "",
           "title": {
            "standoff": 15
           },
           "zerolinecolor": "white",
           "zerolinewidth": 2
          },
          "yaxis": {
           "automargin": true,
           "gridcolor": "white",
           "linecolor": "white",
           "ticks": "",
           "title": {
            "standoff": 15
           },
           "zerolinecolor": "white",
           "zerolinewidth": 2
          }
         }
        },
        "title": {
         "text": "<B>Level 2 Chargers Number of Sessions in One Year</B>",
         "x": 0.5,
         "xref": "paper"
        },
        "xaxis": {
         "rangeslider": {
          "visible": true
         },
         "title": {
          "text": "<B>Time</B>"
         }
        },
        "yaxis": {
         "title": {
          "text": "<B>Number of Sessions</B>"
         }
        }
       }
      },
      "text/html": [
       "<div>                            <div id=\"5eec6546-a716-4052-aa4a-91f440e4fb25\" class=\"plotly-graph-div\" style=\"height:525px; width:100%;\"></div>            <script type=\"text/javascript\">                require([\"plotly\"], function(Plotly) {                    window.PLOTLYENV=window.PLOTLYENV || {};                                    if (document.getElementById(\"5eec6546-a716-4052-aa4a-91f440e4fb25\")) {                    Plotly.newPlot(                        \"5eec6546-a716-4052-aa4a-91f440e4fb25\",                        [{\"name\":\"<B>Number of Real Sessions</B>\",\"x\":[\"00:00\",\"01:00\",\"02:00\",\"03:00\",\"04:00\",\"05:00\",\"06:00\",\"07:00\",\"08:00\",\"09:00\",\"10:00\",\"11:00\",\"12:00\",\"13:00\",\"14:00\",\"15:00\",\"16:00\",\"17:00\",\"18:00\",\"19:00\",\"20:00\",\"21:00\",\"22:00\",\"23:00\"],\"y\":[2,0,0,0,0,1,11,186,59,112,66,57,60,79,46,32,19,16,8,11,15,7,2,0],\"type\":\"scattergl\"},{\"name\":\"<B>Number of Simulated Sessions</B>\",\"x\":[\"00:00\",\"01:00\",\"02:00\",\"03:00\",\"04:00\",\"05:00\",\"06:00\",\"07:00\",\"08:00\",\"09:00\",\"10:00\",\"11:00\",\"12:00\",\"13:00\",\"14:00\",\"15:00\",\"16:00\",\"17:00\",\"18:00\",\"19:00\",\"20:00\",\"21:00\",\"22:00\",\"23:00\"],\"y\":[1,2,11,19,41,55,79,122,110,105,99,78,74,60,48,38,32,19,12,8,9,8,4,0],\"type\":\"scattergl\"}],                        {\"template\":{\"data\":{\"histogram2dcontour\":[{\"type\":\"histogram2dcontour\",\"colorbar\":{\"outlinewidth\":0,\"ticks\":\"\"},\"colorscale\":[[0.0,\"#0d0887\"],[0.1111111111111111,\"#46039f\"],[0.2222222222222222,\"#7201a8\"],[0.3333333333333333,\"#9c179e\"],[0.4444444444444444,\"#bd3786\"],[0.5555555555555556,\"#d8576b\"],[0.6666666666666666,\"#ed7953\"],[0.7777777777777778,\"#fb9f3a\"],[0.8888888888888888,\"#fdca26\"],[1.0,\"#f0f921\"]]}],\"choropleth\":[{\"type\":\"choropleth\",\"colorbar\":{\"outlinewidth\":0,\"ticks\":\"\"}}],\"histogram2d\":[{\"type\":\"histogram2d\",\"colorbar\":{\"outlinewidth\":0,\"ticks\":\"\"},\"colorscale\":[[0.0,\"#0d0887\"],[0.1111111111111111,\"#46039f\"],[0.2222222222222222,\"#7201a8\"],[0.3333333333333333,\"#9c179e\"],[0.4444444444444444,\"#bd3786\"],[0.5555555555555556,\"#d8576b\"],[0.6666666666666666,\"#ed7953\"],[0.7777777777777778,\"#fb9f3a\"],[0.8888888888888888,\"#fdca26\"],[1.0,\"#f0f921\"]]}],\"heatmap\":[{\"type\":\"heatmap\",\"colorbar\":{\"outlinewidth\":0,\"ticks\":\"\"},\"colorscale\":[[0.0,\"#0d0887\"],[0.1111111111111111,\"#46039f\"],[0.2222222222222222,\"#7201a8\"],[0.3333333333333333,\"#9c179e\"],[0.4444444444444444,\"#bd3786\"],[0.5555555555555556,\"#d8576b\"],[0.6666666666666666,\"#ed7953\"],[0.7777777777777778,\"#fb9f3a\"],[0.8888888888888888,\"#fdca26\"],[1.0,\"#f0f921\"]]}],\"heatmapgl\":[{\"type\":\"heatmapgl\",\"colorbar\":{\"outlinewidth\":0,\"ticks\":\"\"},\"colorscale\":[[0.0,\"#0d0887\"],[0.1111111111111111,\"#46039f\"],[0.2222222222222222,\"#7201a8\"],[0.3333333333333333,\"#9c179e\"],[0.4444444444444444,\"#bd3786\"],[0.5555555555555556,\"#d8576b\"],[0.6666666666666666,\"#ed7953\"],[0.7777777777777778,\"#fb9f3a\"],[0.8888888888888888,\"#fdca26\"],[1.0,\"#f0f921\"]]}],\"contourcarpet\":[{\"type\":\"contourcarpet\",\"colorbar\":{\"outlinewidth\":0,\"ticks\":\"\"}}],\"contour\":[{\"type\":\"contour\",\"colorbar\":{\"outlinewidth\":0,\"ticks\":\"\"},\"colorscale\":[[0.0,\"#0d0887\"],[0.1111111111111111,\"#46039f\"],[0.2222222222222222,\"#7201a8\"],[0.3333333333333333,\"#9c179e\"],[0.4444444444444444,\"#bd3786\"],[0.5555555555555556,\"#d8576b\"],[0.6666666666666666,\"#ed7953\"],[0.7777777777777778,\"#fb9f3a\"],[0.8888888888888888,\"#fdca26\"],[1.0,\"#f0f921\"]]}],\"surface\":[{\"type\":\"surface\",\"colorbar\":{\"outlinewidth\":0,\"ticks\":\"\"},\"colorscale\":[[0.0,\"#0d0887\"],[0.1111111111111111,\"#46039f\"],[0.2222222222222222,\"#7201a8\"],[0.3333333333333333,\"#9c179e\"],[0.4444444444444444,\"#bd3786\"],[0.5555555555555556,\"#d8576b\"],[0.6666666666666666,\"#ed7953\"],[0.7777777777777778,\"#fb9f3a\"],[0.8888888888888888,\"#fdca26\"],[1.0,\"#f0f921\"]]}],\"mesh3d\":[{\"type\":\"mesh3d\",\"colorbar\":{\"outlinewidth\":0,\"ticks\":\"\"}}],\"scatter\":[{\"fillpattern\":{\"fillmode\":\"overlay\",\"size\":10,\"solidity\":0.2},\"type\":\"scatter\"}],\"parcoords\":[{\"type\":\"parcoords\",\"line\":{\"colorbar\":{\"outlinewidth\":0,\"ticks\":\"\"}}}],\"scatterpolargl\":[{\"type\":\"scatterpolargl\",\"marker\":{\"colorbar\":{\"outlinewidth\":0,\"ticks\":\"\"}}}],\"bar\":[{\"error_x\":{\"color\":\"#2a3f5f\"},\"error_y\":{\"color\":\"#2a3f5f\"},\"marker\":{\"line\":{\"color\":\"#E5ECF6\",\"width\":0.5},\"pattern\":{\"fillmode\":\"overlay\",\"size\":10,\"solidity\":0.2}},\"type\":\"bar\"}],\"scattergeo\":[{\"type\":\"scattergeo\",\"marker\":{\"colorbar\":{\"outlinewidth\":0,\"ticks\":\"\"}}}],\"scatterpolar\":[{\"type\":\"scatterpolar\",\"marker\":{\"colorbar\":{\"outlinewidth\":0,\"ticks\":\"\"}}}],\"histogram\":[{\"marker\":{\"pattern\":{\"fillmode\":\"overlay\",\"size\":10,\"solidity\":0.2}},\"type\":\"histogram\"}],\"scattergl\":[{\"type\":\"scattergl\",\"marker\":{\"colorbar\":{\"outlinewidth\":0,\"ticks\":\"\"}}}],\"scatter3d\":[{\"type\":\"scatter3d\",\"line\":{\"colorbar\":{\"outlinewidth\":0,\"ticks\":\"\"}},\"marker\":{\"colorbar\":{\"outlinewidth\":0,\"ticks\":\"\"}}}],\"scattermapbox\":[{\"type\":\"scattermapbox\",\"marker\":{\"colorbar\":{\"outlinewidth\":0,\"ticks\":\"\"}}}],\"scatterternary\":[{\"type\":\"scatterternary\",\"marker\":{\"colorbar\":{\"outlinewidth\":0,\"ticks\":\"\"}}}],\"scattercarpet\":[{\"type\":\"scattercarpet\",\"marker\":{\"colorbar\":{\"outlinewidth\":0,\"ticks\":\"\"}}}],\"carpet\":[{\"aaxis\":{\"endlinecolor\":\"#2a3f5f\",\"gridcolor\":\"white\",\"linecolor\":\"white\",\"minorgridcolor\":\"white\",\"startlinecolor\":\"#2a3f5f\"},\"baxis\":{\"endlinecolor\":\"#2a3f5f\",\"gridcolor\":\"white\",\"linecolor\":\"white\",\"minorgridcolor\":\"white\",\"startlinecolor\":\"#2a3f5f\"},\"type\":\"carpet\"}],\"table\":[{\"cells\":{\"fill\":{\"color\":\"#EBF0F8\"},\"line\":{\"color\":\"white\"}},\"header\":{\"fill\":{\"color\":\"#C8D4E3\"},\"line\":{\"color\":\"white\"}},\"type\":\"table\"}],\"barpolar\":[{\"marker\":{\"line\":{\"color\":\"#E5ECF6\",\"width\":0.5},\"pattern\":{\"fillmode\":\"overlay\",\"size\":10,\"solidity\":0.2}},\"type\":\"barpolar\"}],\"pie\":[{\"automargin\":true,\"type\":\"pie\"}]},\"layout\":{\"autotypenumbers\":\"strict\",\"colorway\":[\"#636efa\",\"#EF553B\",\"#00cc96\",\"#ab63fa\",\"#FFA15A\",\"#19d3f3\",\"#FF6692\",\"#B6E880\",\"#FF97FF\",\"#FECB52\"],\"font\":{\"color\":\"#2a3f5f\"},\"hovermode\":\"closest\",\"hoverlabel\":{\"align\":\"left\"},\"paper_bgcolor\":\"white\",\"plot_bgcolor\":\"#E5ECF6\",\"polar\":{\"bgcolor\":\"#E5ECF6\",\"angularaxis\":{\"gridcolor\":\"white\",\"linecolor\":\"white\",\"ticks\":\"\"},\"radialaxis\":{\"gridcolor\":\"white\",\"linecolor\":\"white\",\"ticks\":\"\"}},\"ternary\":{\"bgcolor\":\"#E5ECF6\",\"aaxis\":{\"gridcolor\":\"white\",\"linecolor\":\"white\",\"ticks\":\"\"},\"baxis\":{\"gridcolor\":\"white\",\"linecolor\":\"white\",\"ticks\":\"\"},\"caxis\":{\"gridcolor\":\"white\",\"linecolor\":\"white\",\"ticks\":\"\"}},\"coloraxis\":{\"colorbar\":{\"outlinewidth\":0,\"ticks\":\"\"}},\"colorscale\":{\"sequential\":[[0.0,\"#0d0887\"],[0.1111111111111111,\"#46039f\"],[0.2222222222222222,\"#7201a8\"],[0.3333333333333333,\"#9c179e\"],[0.4444444444444444,\"#bd3786\"],[0.5555555555555556,\"#d8576b\"],[0.6666666666666666,\"#ed7953\"],[0.7777777777777778,\"#fb9f3a\"],[0.8888888888888888,\"#fdca26\"],[1.0,\"#f0f921\"]],\"sequentialminus\":[[0.0,\"#0d0887\"],[0.1111111111111111,\"#46039f\"],[0.2222222222222222,\"#7201a8\"],[0.3333333333333333,\"#9c179e\"],[0.4444444444444444,\"#bd3786\"],[0.5555555555555556,\"#d8576b\"],[0.6666666666666666,\"#ed7953\"],[0.7777777777777778,\"#fb9f3a\"],[0.8888888888888888,\"#fdca26\"],[1.0,\"#f0f921\"]],\"diverging\":[[0,\"#8e0152\"],[0.1,\"#c51b7d\"],[0.2,\"#de77ae\"],[0.3,\"#f1b6da\"],[0.4,\"#fde0ef\"],[0.5,\"#f7f7f7\"],[0.6,\"#e6f5d0\"],[0.7,\"#b8e186\"],[0.8,\"#7fbc41\"],[0.9,\"#4d9221\"],[1,\"#276419\"]]},\"xaxis\":{\"gridcolor\":\"white\",\"linecolor\":\"white\",\"ticks\":\"\",\"title\":{\"standoff\":15},\"zerolinecolor\":\"white\",\"automargin\":true,\"zerolinewidth\":2},\"yaxis\":{\"gridcolor\":\"white\",\"linecolor\":\"white\",\"ticks\":\"\",\"title\":{\"standoff\":15},\"zerolinecolor\":\"white\",\"automargin\":true,\"zerolinewidth\":2},\"scene\":{\"xaxis\":{\"backgroundcolor\":\"#E5ECF6\",\"gridcolor\":\"white\",\"linecolor\":\"white\",\"showbackground\":true,\"ticks\":\"\",\"zerolinecolor\":\"white\",\"gridwidth\":2},\"yaxis\":{\"backgroundcolor\":\"#E5ECF6\",\"gridcolor\":\"white\",\"linecolor\":\"white\",\"showbackground\":true,\"ticks\":\"\",\"zerolinecolor\":\"white\",\"gridwidth\":2},\"zaxis\":{\"backgroundcolor\":\"#E5ECF6\",\"gridcolor\":\"white\",\"linecolor\":\"white\",\"showbackground\":true,\"ticks\":\"\",\"zerolinecolor\":\"white\",\"gridwidth\":2}},\"shapedefaults\":{\"line\":{\"color\":\"#2a3f5f\"}},\"annotationdefaults\":{\"arrowcolor\":\"#2a3f5f\",\"arrowhead\":0,\"arrowwidth\":1},\"geo\":{\"bgcolor\":\"white\",\"landcolor\":\"#E5ECF6\",\"subunitcolor\":\"white\",\"showland\":true,\"showlakes\":true,\"lakecolor\":\"white\"},\"title\":{\"x\":0.05},\"mapbox\":{\"style\":\"light\"}}},\"title\":{\"text\":\"<B>Level 2 Chargers Number of Sessions in One Year</B>\",\"x\":0.5,\"xref\":\"paper\"},\"xaxis\":{\"rangeslider\":{\"visible\":true},\"title\":{\"text\":\"<B>Time</B>\"}},\"yaxis\":{\"title\":{\"text\":\"<B>Number of Sessions</B>\"}},\"plot_bgcolor\":\"white\"},                        {\"responsive\": true}                    ).then(function(){\n",
       "                            \n",
       "var gd = document.getElementById('5eec6546-a716-4052-aa4a-91f440e4fb25');\n",
       "var x = new MutationObserver(function (mutations, observer) {{\n",
       "        var display = window.getComputedStyle(gd).display;\n",
       "        if (!display || display === 'none') {{\n",
       "            console.log([gd, 'removed!']);\n",
       "            Plotly.purge(gd);\n",
       "            observer.disconnect();\n",
       "        }}\n",
       "}});\n",
       "\n",
       "// Listen for the removal of the full notebook cells\n",
       "var notebookContainer = gd.closest('#notebook-container');\n",
       "if (notebookContainer) {{\n",
       "    x.observe(notebookContainer, {childList: true});\n",
       "}}\n",
       "\n",
       "// Listen for the clearing of the current output cell\n",
       "var outputEl = gd.closest('.output');\n",
       "if (outputEl) {{\n",
       "    x.observe(outputEl, {childList: true});\n",
       "}}\n",
       "\n",
       "                        })                };                });            </script>        </div>"
      ]
     },
     "metadata": {},
     "output_type": "display_data"
    },
    {
     "name": "stderr",
     "output_type": "stream",
     "text": [
      "[19301:0223/153604.236445:ERROR:buffer_manager.cc(488)] [.DisplayCompositor]GL ERROR :GL_INVALID_OPERATION : glBufferData: <- error from previous GL command\n",
      "[19301:0223/153604.511467:ERROR:buffer_manager.cc(488)] [.DisplayCompositor]GL ERROR :GL_INVALID_OPERATION : glBufferData: <- error from previous GL command\n"
     ]
    }
   ],
   "source": [
    "import os\n",
    "os.chdir('/home/lencon/Git_Research/FISTS_2024/Code/EV_Charger')\n",
    "plot_graph([avg_day.time] * 2, [lib.sessions, avg_day.avg_day], ['<B>Number of Real Sessions</B>', '<B>Number of Simulated Sessions</B>'], '<B>Level 2 Chargers Number of Sessions in One Year</B>', '<B>Time</B>', '<B>Number of Sessions</B>', 'l2_avg_day_rand_poisson_1_hour')"
   ]
  },
  {
   "cell_type": "code",
   "execution_count": null,
   "id": "064b1c98",
   "metadata": {},
   "outputs": [],
   "source": [
    "import os\n",
    "os.chdir('/home/lencon/Git_Research/summer_2023_conf_paper/Code/EV_Charger')"
   ]
  },
  {
   "cell_type": "code",
   "execution_count": null,
   "id": "4238a9f7",
   "metadata": {},
   "outputs": [],
   "source": [
    "#pdf\n",
    "plot_graph([avg_day.time] * 2, [lib.sessions / lib.sessions.sum(), avg_day.avg_day / avg_day.avg_day.sum()], ['Number of Real Sessions', 'Number of Simulated Sessions'], 'Level 2 Chargers Number of Sessions in One Year', 'Time', 'Probability of a Charging Event', 'l2_avg_day_rand_poisson_1_hour_pdf')"
   ]
  },
  {
   "cell_type": "markdown",
   "id": "7023c10b",
   "metadata": {},
   "source": [
    "## Plot the power output of the data"
   ]
  },
  {
   "cell_type": "code",
   "execution_count": null,
   "id": "0b1f12df",
   "metadata": {},
   "outputs": [],
   "source": [
    "plot_graph([ev_pad.time], [ev_pad.charge], \"Level 2 Gaussian Random Generated Data\", \"Level 2 Gaussian Random Generated Data Run 4\", \"Time\", \"Power (kW)\", \"l2_g_pad_poisson\")"
   ]
  },
  {
   "cell_type": "code",
   "execution_count": null,
   "id": "793d417a",
   "metadata": {},
   "outputs": [],
   "source": [
    "# June\n",
    "plot_graph([ev_pad.time[ev_pad.time.between('06-01-2022', '07-01-2022')]], [ev_pad.charge[ev_pad.time.between('06-01-2022', '07-01-2022')]], \"Level EV Chargers<br/>Power Output<br/>From: June 01, 2022 to July 01, 2022\", \"Level 2\", \"Time\", \"Power (kW)\", \"l2_g_pad_poisson_June\")"
   ]
  },
  {
   "cell_type": "code",
   "execution_count": null,
   "id": "d418ac9a",
   "metadata": {},
   "outputs": [],
   "source": [
    "def testPoissonArrivL2(time):\n",
    "    import numpy as np\n",
    "    import pandas as pd\n",
    "    import os\n",
    "\n",
    "\n",
    "    # Creates the Poisson for number of random arrivals for a day (Scalar value)\n",
    "    def number_of_arrivals(mean, size =1):\n",
    "        num_arriv = np.array([])\n",
    "        for i in range(len(mean)):\n",
    "            num_arriv = np.append(num_arriv, np.random.poisson(mean[i], size))\n",
    "        num_arriv = np.sort(np.absolute(num_arriv))\n",
    "        return (num_arriv)\n",
    "    # Creates a compund Gaussian with user imputed size (vector length) \n",
    "    # A vector is expected for for the function fir both the mean and std dev\n",
    "    # [1 ... N] creates an Nth compound Gaussian eg, mean = [10, 20, 30], std_dev = [1, 2, 3]  creates a tri-Gaussian\n",
    "    def compound_gauss(mean, std_dev, size):\n",
    "        if len(mean) == len(std_dev):\n",
    "            cpd_gauss = np.array([])\n",
    "            for i in range(len(mean)):\n",
    "                if size[i] <= 1:\n",
    "                    size[i] = 1\n",
    "                cpd_gauss = np.append(cpd_gauss, np.random.default_rng().normal(mean[i], std_dev[i], int(size[i])))\n",
    "            cpd_gauss = np.sort(cpd_gauss)\n",
    "        return (cpd_gauss)\n",
    "    def compound_poisson(mean, size):\n",
    "        cpd_poisson = np.array([])\n",
    "        for i in range(len(mean)):\n",
    "            if size[i] <= 1:\n",
    "                size[i] = 1\n",
    "            cpd_poisson = np.append(cpd_poisson, np.random.poisson(mean[i], int(size[i])) * 60  + np.random.randint(-30, high=30, size = int(size[i])))\n",
    "        cpd_poisson = np.sort(cpd_poisson)\n",
    "        return (cpd_poisson)\n",
    "    # Creates the Poisson for arrival and leave times in minutes in a day\n",
    "    def random_ev_arrivals_times(arriv_mean, cpd_mean, cpd_std_dev, charge_mean, charge_std_dev):\n",
    "        # Size (vector length) is determined by number_of_arrivals function\n",
    "        size = number_of_arrivals(arriv_mean)\n",
    "        # Input the time when peaks occur\n",
    "        arriv_time = compound_poisson(cpd_mean, size)\n",
    "        # Input the average duration of charging for each peak \n",
    "        leave_time = compound_gauss(charge_mean, charge_std_dev, size)\n",
    "        return [arriv_time, leave_time]\n",
    "    # Creates a datafrrame with the arrival times, and adds a time column \n",
    "    # If multiple charging sessions occur they add up\n",
    "    def date_time_arrival_times(start_date, num_days, arriv_mean, cpd_mean, cpd_std_dev, charge_mean, charge_std_dev):\n",
    "        # Create a dataframe to be populated \n",
    "        df = pd.DataFrame(columns = ['arriv_time', 'leave_time'])\n",
    "        # Timestamp for each day counter \n",
    "        current_date = start_date\n",
    "        # Populates the dataframe with random arrival for each day\n",
    "        # Each day is added one at a time in the for loop\n",
    "        for i in range(num_days):\n",
    "            # Create temporary dataframe for that day that will be added main dataframe\n",
    "            temp = pd.DataFrame(columns = ['arriv_time'])\n",
    "            # Call the random arrival time function for each day\n",
    "            arriv_time, leave_time = random_ev_arrivals_times(arriv_mean, cpd_mean, cpd_std_dev, charge_mean, charge_std_dev)\n",
    "            # Converts random arrival times (minutes in a day) into timedeltas which are added to that day's timestamp\n",
    "            # Converts random arrival times into pandas timestamps \n",
    "            temp['arriv_time'] = current_date + pd.to_timedelta(arriv_time, unit = 'min')\n",
    "            # Converts random leave times (duration) into timestamps by adding arrival time to leave time timedeltas\n",
    "            temp['leave_time'] = temp['arriv_time'] + pd.to_timedelta(leave_time, unit = 'min')\n",
    "            # Add daily dataframe to the main dataframe\n",
    "            df = pd.concat([df,temp])\n",
    "            # Update the current day timestamp by adding one day\n",
    "            current_date = current_date + pd.Timedelta(1, \"d\")\n",
    "        # Ensures that arrival times are in order\n",
    "        df = df.sort_values(by=['arriv_time'])\n",
    "        # Reset dataframe to organized arrival times\n",
    "        df = df.reset_index(drop = True)\n",
    "        # Seperate arrival times and leave times to create charging sessions \n",
    "        df1 = df[['arriv_time']]\n",
    "        # Set a charging session to 1\n",
    "        df1['value'] = 1\n",
    "        df1['time'] = df1['arriv_time']\n",
    "        df2 = df[['leave_time']]\n",
    "        # Set a charging session to -1 to negate a charging to shut it off\n",
    "        df2['value'] = -1\n",
    "        df2['time'] = df2['leave_time']\n",
    "        # Combine the seperated dataframes to create a charging sessions \n",
    "        ev = pd.concat([df1, df2])\n",
    "        # Sort the combined dataframes, by time \n",
    "        ev = ev.sort_values(by=['time'])\n",
    "        # Reset dataframe to organized times\n",
    "        ev = ev.reset_index(drop = True)\n",
    "        # Adds the 1 and -1s to get number of charging sessions occuring at every time interval\n",
    "        ev['fuzz'] = ev.value.cumsum()\n",
    "        # 0 - 4 charging session can occur since there are 4 charging stations\n",
    "        ev['fuzz'] = ev['fuzz'].clip(lower=0, upper = 4)\n",
    "        # Multiply by 5 kW which is the power consumption for each EV charger\n",
    "        ev['charge'] = ev['fuzz'] * 5 \n",
    "        # Organize columns \n",
    "        ev = ev[['time', 'value', 'fuzz', 'charge']]\n",
    "        return [df, ev]\n",
    "        \n",
    "    def resample(df, time_column = 'time', resample_rate = '5T'):\n",
    "        df[time_column] = pd.to_datetime(df[time_column])\n",
    "        df = df.set_index(df[time_column])\n",
    "        df = df.drop(columns = [time_column])\n",
    "        df = df.resample(resample_rate).last().ffill()  #df.groupby(pd.Grouper(key=time_column, freq=resample_rate)).ffill().bfill() \n",
    "        df.insert(loc=0, column=time_column, value=df.index) #df.insert(loc=0, column=time_column, value=df.index)\n",
    "        df = df.reset_index(drop=True)\n",
    "        #df.fillna(0)\n",
    "        #df = df.astype(int, errors='ignore')\n",
    "        #df = df.fillna(0)\n",
    "        return df\n",
    "    \n",
    "    temporaryFile = \"df_l2_.feather\"  \n",
    "    if os.path.exists(temporaryFile):\n",
    "        df = pd.read_feather(temporaryFile)\n",
    "        index = time / 900\n",
    "        output = df.charge[index].item()\n",
    "        return output\n",
    "    else: \n",
    "        arriv_mean = [6, 2, 1] # Average number of car arrivals\n",
    "        cpd_mean = [7, 9, 13] # Arrival times peaks \n",
    "        cpd_std_dev = [166, 179, 150] # [332, 358, 300] # Arrival times standard deviation\n",
    "        ev_arriv = np.array([])\n",
    "        start_date = pd.Timestamp(2023, 1, 1, 0) # Start date for the time deltas\n",
    "        charge_mean = [90, 90, 90] # Average length of charging session \n",
    "        charge_std_dev = [30, 30, 30] # Standard deviation of charging length\n",
    "        num_days = 365 # Number of outputed random data \n",
    "        # Call the function \n",
    "        df, ev = date_time_arrival_times(start_date, num_days, arriv_mean, cpd_mean,\n",
    "                                 cpd_std_dev, charge_mean, charge_std_dev)\n",
    "        first_row = {'time':pd.Timestamp('2023-01-01 00:00:00'), 'value':0, 'fuzz':0, 'charge':0}\n",
    "        last_row = {'time':pd.Timestamp('2024-01-01 00:00:00'), 'value':0, 'fuzz':0, 'charge':0}\n",
    "        ev_pad = ev\n",
    "        ev_pad = pd.concat([ev_pad, pd.DataFrame([first_row])], ignore_index=True)\n",
    "        ev_pad = pd.concat([ev_pad, pd.DataFrame([last_row])], ignore_index=True)\n",
    "        ev_pad = ev_pad.sort_values(by=['time'])\n",
    "        ev_pad = ev_pad.reset_index(drop = True)\n",
    "        ev_pad = resample(ev_pad, resample_rate = '15T')\n",
    "        ev_pad = ev_pad[ev_pad.time.between('2023-01-01 00:00:00', '2023-12-31 23:59:59')].reset_index(drop=True)\n",
    "        ev_pad.to_feather(temporaryFile)\n",
    "        return ev_pad.charge[0].item()"
   ]
  },
  {
   "cell_type": "code",
   "execution_count": null,
   "id": "0dd6733a",
   "metadata": {},
   "outputs": [],
   "source": [
    "def testPoissonArrivL2(time):\n",
    "    import numpy as np\n",
    "    import pandas as pd\n",
    "    import os\n",
    "\n",
    "    np.random.seed(10)\n",
    "    # Creates the Poisson for number of random arrivals for a day (Scalar value)\n",
    "    def number_of_arrivals(mean, size =1):\n",
    "        num_arriv = np.array([])\n",
    "        for i in range(len(mean)):\n",
    "            num_arriv = np.append(num_arriv, np.random.poisson(mean[i], size))\n",
    "        num_arriv = np.sort(np.absolute(num_arriv))\n",
    "        return (num_arriv)\n",
    "    # Creates a compund Gaussian with user imputed size (vector length) \n",
    "    # A vector is expected for for the function fir both the mean and std dev\n",
    "    # [1 ... N] creates an Nth compound Gaussian eg, mean = [10, 20, 30], std_dev = [1, 2, 3]  creates a tri-Gaussian\n",
    "    def compound_gauss(mean, std_dev, size):\n",
    "        if len(mean) == len(std_dev):\n",
    "            cpd_gauss = np.array([])\n",
    "            for i in range(len(mean)):\n",
    "                if size[i] <= 1:\n",
    "                    size[i] = 1\n",
    "                cpd_gauss = np.append(cpd_gauss, np.random.default_rng().normal(mean[i], std_dev[i], int(size[i])))\n",
    "            cpd_gauss = np.sort(cpd_gauss)\n",
    "        return (cpd_gauss)\n",
    "    def compound_poisson(mean, size):\n",
    "        cpd_poisson = np.array([])\n",
    "        for i in range(len(mean)):\n",
    "            if size[i] <= 1:\n",
    "                size[i] = 1\n",
    "            cpd_poisson = np.append(cpd_poisson, np.random.poisson(mean[i], int(size[i])) * 60  + np.random.randint(-30, high=30, size = int(size[i])))\n",
    "        cpd_poisson = np.sort(cpd_poisson)\n",
    "        return (cpd_poisson)\n",
    "    # Creates the Poisson for arrival and leave times in minutes in a day\n",
    "    def random_ev_arrivals_times(arriv_mean, cpd_mean, cpd_std_dev, charge_mean, charge_std_dev):\n",
    "        # Size (vector length) is determined by number_of_arrivals function\n",
    "        size = number_of_arrivals(arriv_mean)\n",
    "        # Input the time when peaks occur\n",
    "        arriv_time = compound_poisson(cpd_mean, size)\n",
    "        # Input the average duration of charging for each peak \n",
    "        leave_time = compound_gauss(charge_mean, charge_std_dev, size)\n",
    "        return [arriv_time, leave_time]\n",
    "    # Creates a datafrrame with the arrival times, and adds a time column \n",
    "    # If multiple charging sessions occur they add up\n",
    "    def date_time_arrival_times(start_date, num_days, arriv_mean, cpd_mean, cpd_std_dev, charge_mean, charge_std_dev):\n",
    "        # Create a dataframe to be populated \n",
    "        df = pd.DataFrame(columns = ['arriv_time', 'leave_time'])\n",
    "        # Timestamp for each day counter \n",
    "        current_date = start_date\n",
    "        # Populates the dataframe with random arrival for each day\n",
    "        # Each day is added one at a time in the for loop\n",
    "        for i in range(num_days):\n",
    "            # Create temporary dataframe for that day that will be added main dataframe\n",
    "            temp = pd.DataFrame(columns = ['arriv_time'])\n",
    "            # Call the random arrival time function for each day\n",
    "            arriv_time, leave_time = random_ev_arrivals_times(arriv_mean, cpd_mean, cpd_std_dev, charge_mean, charge_std_dev)\n",
    "            # Converts random arrival times (minutes in a day) into timedeltas which are added to that day's timestamp\n",
    "            # Converts random arrival times into pandas timestamps \n",
    "            temp['arriv_time'] = current_date + pd.to_timedelta(arriv_time, unit = 'min')\n",
    "            # Converts random leave times (duration) into timestamps by adding arrival time to leave time timedeltas\n",
    "            temp['leave_time'] = temp['arriv_time'] + pd.to_timedelta(leave_time, unit = 'min')\n",
    "            # Add daily dataframe to the main dataframe\n",
    "            df = pd.concat([df,temp])\n",
    "            # Update the current day timestamp by adding one day\n",
    "            current_date = current_date + pd.Timedelta(1, \"d\")\n",
    "        # Ensures that arrival times are in order\n",
    "        df = df.sort_values(by=['arriv_time'])\n",
    "        # Reset dataframe to organized arrival times\n",
    "        df = df.reset_index(drop = True)\n",
    "        # Seperate arrival times and leave times to create charging sessions \n",
    "        df1 = df[['arriv_time']]\n",
    "        # Set a charging session to 1\n",
    "        df1['value'] = 1\n",
    "        df1['time'] = df1['arriv_time']\n",
    "        df2 = df[['leave_time']]\n",
    "        # Set a charging session to -1 to negate a charging to shut it off\n",
    "        df2['value'] = -1\n",
    "        df2['time'] = df2['leave_time']\n",
    "        # Combine the seperated dataframes to create a charging sessions \n",
    "        ev = pd.concat([df1, df2])\n",
    "        # Sort the combined dataframes, by time \n",
    "        ev = ev.sort_values(by=['time'])\n",
    "        # Reset dataframe to organized times\n",
    "        ev = ev.reset_index(drop = True)\n",
    "        # Adds the 1 and -1s to get number of charging sessions occuring at every time interval\n",
    "        ev['fuzz'] = ev.value.cumsum()\n",
    "        # 0 - 4 charging session can occur since there are 4 charging stations\n",
    "        ev['fuzz'] = ev['fuzz'].clip(lower=0, upper = 4)\n",
    "        # Multiply by 5 kW which is the power consumption for each EV charger\n",
    "        ev['charge'] = ev['fuzz'] * 5000\n",
    "        # Organize columns \n",
    "        ev = ev[['time', 'value', 'fuzz', 'charge']]\n",
    "        return [df, ev]\n",
    "        \n",
    "    def resample(df, time_column = 'time', resample_rate = '5T'):\n",
    "        df[time_column] = pd.to_datetime(df[time_column])\n",
    "        df = df.set_index(df[time_column])\n",
    "        df = df.drop(columns = [time_column])\n",
    "        df = df.resample(resample_rate).last().ffill()  #df.groupby(pd.Grouper(key=time_column, freq=resample_rate)).ffill().bfill() \n",
    "        df.insert(loc=0, column=time_column, value=df.index) #df.insert(loc=0, column=time_column, value=df.index)\n",
    "        df = df.reset_index(drop=True)\n",
    "        #df.fillna(0)\n",
    "        #df = df.astype(int, errors='ignore')\n",
    "        #df = df.fillna(0)\n",
    "        return df\n",
    "    \n",
    "    temporaryFile = \"df_l2_.feather\"  \n",
    "    if os.path.exists(temporaryFile):\n",
    "        df = pd.read_feather(temporaryFile)\n",
    "        index = time / 900\n",
    "        output = df.charge[index].item()\n",
    "        return output\n",
    "    else: \n",
    "        arriv_mean = [6, 2, 1] # Average number of car arrivals\n",
    "        cpd_mean = [7, 9, 13] # Arrival times peaks \n",
    "        cpd_std_dev = [166, 179, 150] # [332, 358, 300] # Arrival times standard deviation\n",
    "        ev_arriv = np.array([])\n",
    "        start_date = pd.Timestamp(2023, 1, 1, 0) # Start date for the time deltas\n",
    "        charge_mean = [90, 90, 90] # Average length of charging session \n",
    "        charge_std_dev = [30, 30, 30] # Standard deviation of charging length\n",
    "        num_days = 365 # Number of outputed random data \n",
    "        # Call the function \n",
    "        df, ev = date_time_arrival_times(start_date, num_days, arriv_mean, cpd_mean,\n",
    "                                 cpd_std_dev, charge_mean, charge_std_dev)\n",
    "        first_row = {'time':pd.Timestamp('2023-01-01 00:00:00'), 'value':0, 'fuzz':0, 'charge':0}\n",
    "        last_row = {'time':pd.Timestamp('2024-01-01 00:00:00'), 'value':0, 'fuzz':0, 'charge':0}\n",
    "        ev_pad = ev\n",
    "        ev_pad = pd.concat([ev_pad, pd.DataFrame([first_row])], ignore_index=True)\n",
    "        ev_pad = pd.concat([ev_pad, pd.DataFrame([last_row])], ignore_index=True)\n",
    "        ev_pad = ev_pad.sort_values(by=['time'])\n",
    "        ev_pad = ev_pad.reset_index(drop = True)\n",
    "        ev_pad = resample(ev_pad, resample_rate = '15T')\n",
    "        ev_pad = ev_pad[ev_pad.time.between('2023-01-01 00:00:00', '2023-12-31 23:59:59')].reset_index(drop=True)\n",
    "        ev_pad['charge'] *= -1\n",
    "        ev_pad.to_feather(temporaryFile)\n",
    "        return ev_pad.charge[0].item()"
   ]
  },
  {
   "cell_type": "code",
   "execution_count": null,
   "id": "62dd1e88",
   "metadata": {},
   "outputs": [],
   "source": [
    "def testPoissonArrivL3(time):\n",
    "    import numpy as np\n",
    "    import pandas as pd\n",
    "    import os\n",
    "\n",
    "    np.random.seed(10)\n",
    "    # Creates the Poisson for number of random arrivals for a day (Scalar value)\n",
    "    def number_of_arrivals(mean, size =1):\n",
    "        num_arriv = np.array([])\n",
    "        for i in range(len(mean)):\n",
    "            num_arriv = np.append(num_arriv, np.random.poisson(mean[i], size))\n",
    "        num_arriv = np.sort(np.absolute(num_arriv))\n",
    "        return (num_arriv)\n",
    "    # Creates a compund Gaussian with user imputed size (vector length) \n",
    "    # A vector is expected for for the function fir both the mean and std dev\n",
    "    # [1 ... N] creates an Nth compound Gaussian eg, mean = [10, 20, 30], std_dev = [1, 2, 3]  creates a tri-Gaussian\n",
    "    def compound_gauss(mean, std_dev, size):\n",
    "        if len(mean) == len(std_dev):\n",
    "            cpd_gauss = np.array([])\n",
    "            for i in range(len(mean)):\n",
    "                if size[i] <= 1:\n",
    "                    size[i] = 1\n",
    "                cpd_gauss = np.append(cpd_gauss, np.random.default_rng().normal(mean[i], std_dev[i], int(size[i])))\n",
    "            cpd_gauss = np.sort(cpd_gauss)\n",
    "        return (cpd_gauss)\n",
    "    def compound_poisson(mean, size):\n",
    "        cpd_poisson = np.array([])\n",
    "        for i in range(len(mean)):\n",
    "            if size[i] <= 1:\n",
    "                size[i] = 1\n",
    "            cpd_poisson = np.append(cpd_poisson, np.random.poisson(mean[i], int(size[i])) * 60  + np.random.randint(-30, high=30, size = int(size[i])))\n",
    "        cpd_poisson = np.sort(cpd_poisson)\n",
    "        return (cpd_poisson)\n",
    "    # Creates the Poisson for arrival and leave times in minutes in a day\n",
    "    def random_ev_arrivals_times(arriv_mean, cpd_mean, cpd_std_dev, charge_mean, charge_std_dev):\n",
    "        # Size (vector length) is determined by number_of_arrivals function\n",
    "        size = number_of_arrivals(arriv_mean)\n",
    "        # Input the time when peaks occur\n",
    "        arriv_time = compound_poisson(cpd_mean, size)\n",
    "        # Input the average duration of charging for each peak \n",
    "        leave_time = compound_gauss(charge_mean, charge_std_dev, size)\n",
    "        return [arriv_time, leave_time]\n",
    "    # Creates a datafrrame with the arrival times, and adds a time column \n",
    "    # If multiple charging sessions occur they add up\n",
    "    def date_time_arrival_times(start_date, num_days, arriv_mean, cpd_mean, cpd_std_dev, charge_mean, charge_std_dev):\n",
    "        # Create a dataframe to be populated \n",
    "        df = pd.DataFrame(columns = ['arriv_time', 'leave_time'])\n",
    "        # Timestamp for each day counter \n",
    "        current_date = start_date\n",
    "        # Populates the dataframe with random arrival for each day\n",
    "        # Each day is added one at a time in the for loop\n",
    "        for i in range(num_days):\n",
    "            # Create temporary dataframe for that day that will be added main dataframe\n",
    "            temp = pd.DataFrame(columns = ['arriv_time'])\n",
    "            # Call the random arrival time function for each day\n",
    "            arriv_time, leave_time = random_ev_arrivals_times(arriv_mean, cpd_mean, cpd_std_dev, charge_mean, charge_std_dev)\n",
    "            # Converts random arrival times (minutes in a day) into timedeltas which are added to that day's timestamp\n",
    "            # Converts random arrival times into pandas timestamps \n",
    "            temp['arriv_time'] = current_date + pd.to_timedelta(arriv_time, unit = 'min')\n",
    "            # Converts random leave times (duration) into timestamps by adding arrival time to leave time timedeltas\n",
    "            temp['leave_time'] = temp['arriv_time'] + pd.to_timedelta(leave_time, unit = 'min')\n",
    "            # Add daily dataframe to the main dataframe\n",
    "            df = pd.concat([df,temp])\n",
    "            # Update the current day timestamp by adding one day\n",
    "            current_date = current_date + pd.Timedelta(1, \"d\")\n",
    "        # Ensures that arrival times are in order\n",
    "        df = df.sort_values(by=['arriv_time'])\n",
    "        # Reset dataframe to organized arrival times\n",
    "        df = df.reset_index(drop = True)\n",
    "        # Seperate arrival times and leave times to create charging sessions \n",
    "        df1 = df[['arriv_time']]\n",
    "        # Set a charging session to 1\n",
    "        df1['value'] = 1\n",
    "        df1['time'] = df1['arriv_time']\n",
    "        df2 = df[['leave_time']]\n",
    "        # Set a charging session to -1 to negate a charging to shut it off\n",
    "        df2['value'] = -1\n",
    "        df2['time'] = df2['leave_time']\n",
    "        # Combine the seperated dataframes to create a charging sessions \n",
    "        ev = pd.concat([df1, df2])\n",
    "        # Sort the combined dataframes, by time \n",
    "        ev = ev.sort_values(by=['time'])\n",
    "        # Reset dataframe to organized times\n",
    "        ev = ev.reset_index(drop = True)\n",
    "        # Adds the 1 and -1s to get number of charging sessions occuring at every time interval\n",
    "        ev['fuzz'] = ev.value.cumsum()\n",
    "        # 0 - 4 charging session can occur since there are 4 charging stations\n",
    "        ev['fuzz'] = ev['fuzz'].clip(lower=0, upper = 4)\n",
    "        # Multiply by 5 kW which is the power consumption for each EV charger\n",
    "        ev['charge'] = ev['fuzz'] * 5000 \n",
    "        # Organize columns \n",
    "        ev = ev[['time', 'value', 'fuzz', 'charge']]\n",
    "        return [df, ev]\n",
    "        \n",
    "    def resample(df, time_column = 'time', resample_rate = '5T'):\n",
    "        df[time_column] = pd.to_datetime(df[time_column])\n",
    "        df = df.set_index(df[time_column])\n",
    "        df = df.drop(columns = [time_column])\n",
    "        df = df.resample(resample_rate).last().ffill()  #df.groupby(pd.Grouper(key=time_column, freq=resample_rate)).ffill().bfill() \n",
    "        df.insert(loc=0, column=time_column, value=df.index) #df.insert(loc=0, column=time_column, value=df.index)\n",
    "        df = df.reset_index(drop=True)\n",
    "        #df.fillna(0)\n",
    "        #df = df.astype(int, errors='ignore')\n",
    "        #df = df.fillna(0)\n",
    "        return df\n",
    "    \n",
    "    temporaryFile = \"df_l3_.feather\"  \n",
    "    if os.path.exists(temporaryFile):\n",
    "        df = pd.read_feather(temporaryFile)\n",
    "        index = time / 900\n",
    "        output = df.charge[index].item()\n",
    "        return output\n",
    "    else: \n",
    "        arriv_mean = [2, 1, 1] # Average number of car arrivals\n",
    "        cpd_mean = [7, 9, 13] # Arrival times peaks \n",
    "        cpd_std_dev = [166, 179, 150] # [332, 358, 300] # Arrival times standard deviation\n",
    "        ev_arriv = np.array([])\n",
    "        start_date = pd.Timestamp(2023, 1, 1, 0) # Start date for the time deltas\n",
    "        charge_mean = [30, 30, 30] # Average length of charging session \n",
    "        charge_std_dev = [10, 10, 10] # Standard deviation of charging length\n",
    "        num_days = 365 # Number of outputed random data \n",
    "        # Call the function \n",
    "        df, ev = date_time_arrival_times(start_date, num_days, arriv_mean, cpd_mean,\n",
    "                                 cpd_std_dev, charge_mean, charge_std_dev)\n",
    "        first_row = {'time':pd.Timestamp('2023-01-01 00:00:00'), 'value':0, 'fuzz':0, 'charge':0}\n",
    "        last_row = {'time':pd.Timestamp('2024-01-01 00:00:00'), 'value':0, 'fuzz':0, 'charge':0}\n",
    "        ev_pad = ev\n",
    "        ev_pad = pd.concat([ev_pad, pd.DataFrame([first_row])], ignore_index=True)\n",
    "        ev_pad = pd.concat([ev_pad, pd.DataFrame([last_row])], ignore_index=True)\n",
    "        ev_pad = ev_pad.sort_values(by=['time'])\n",
    "        ev_pad = ev_pad.reset_index(drop = True)\n",
    "        ev_pad = resample(ev_pad, resample_rate = '15T')\n",
    "        ev_pad = ev_pad[ev_pad.time.between('2023-01-01 00:00:00', '2023-12-31 23:59:59')].reset_index(drop=True)\n",
    "        ev_pad['charge'] *= -1\n",
    "        ev_pad.to_feather(temporaryFile)\n",
    "        return ev_pad.charge[0].item()"
   ]
  },
  {
   "cell_type": "code",
   "execution_count": null,
   "id": "f27d22d5",
   "metadata": {},
   "outputs": [],
   "source": [
    "testPoissonArrivL2(27000000)"
   ]
  },
  {
   "cell_type": "code",
   "execution_count": null,
   "id": "6a29fcc7",
   "metadata": {},
   "outputs": [],
   "source": [
    "import pandas as pd\n",
    "df = pd.read_feather('df_l2_.feather')\n",
    "df"
   ]
  },
  {
   "cell_type": "code",
   "execution_count": null,
   "id": "bdf7e5d7",
   "metadata": {},
   "outputs": [],
   "source": [
    "df.plot(x = 'time', y = 'charge')"
   ]
  },
  {
   "cell_type": "code",
   "execution_count": null,
   "id": "51864c70",
   "metadata": {},
   "outputs": [],
   "source": []
  }
 ],
 "metadata": {
  "kernelspec": {
   "display_name": "Python 3 (ipykernel)",
   "language": "python",
   "name": "python3"
  },
  "language_info": {
   "codemirror_mode": {
    "name": "ipython",
    "version": 3
   },
   "file_extension": ".py",
   "mimetype": "text/x-python",
   "name": "python",
   "nbconvert_exporter": "python",
   "pygments_lexer": "ipython3",
   "version": "3.9.13"
  }
 },
 "nbformat": 4,
 "nbformat_minor": 5
}
